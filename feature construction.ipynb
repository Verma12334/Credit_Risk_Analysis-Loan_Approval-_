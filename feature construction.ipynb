{
 "cells": [
  {
   "cell_type": "markdown",
   "id": "7e91d207",
   "metadata": {},
   "source": [
    "# Loan Approval Prediction: \n",
    "### EDA + Decision Tree, Random Forest & Logistic Regression Modeling"
   ]
  },
  {
   "cell_type": "markdown",
   "id": "a3a3c969",
   "metadata": {},
   "source": [
    "\n",
    "### Problem Statement:\n",
    "\n",
    "__About Company__ <br>\n",
    "Dream Housing Finance company deals in all home loans. They have presence across all urban, semi urban and rural areas. Customer first apply for home loan after that company validates the customer eligibility for loan.\n",
    "\n",
    "__Problem__ <br>\n",
    "Company wants to automate the loan eligibility process (real time) based on customer detail provided while filling online application form. These details are Gender, Marital Status, Education, Number of Dependents, Income, Loan Amount, Credit History and others. To automate this process, they have given a problem to identify the customers segments, those are eligible for loan amount so that they can specifically target these customers. Here they have provided a partial data set.\n",
    "\n",
    "#### Dataset Description:\n",
    "\n",
    "| Variable | Description | \n",
    "|------|------|\n",
    "| Loan_ID | Unique Loan ID | \n",
    "| Gender | Male/ Female | \n",
    "| Married | Applicant married (Y/N) | \n",
    "| Dependents | Number of dependents | \n",
    "| Education | Applicant Education (Graduate/ Under Graduate) | \n",
    "| Self_Employed | Self employed (Y/N) | \n",
    "| ApplicantIncome | Applicant income | \n",
    "| CoapplicantIncome | Coapplicant income | \n",
    "| LoanAmount | Loan amount in thousands | \n",
    "| Loan_Amount_Term | Term of loan in months | \n",
    "| Credit_History | credit history meets guidelines | \n",
    "| Property_Area | Urban/ Semi Urban/ Rural | \n",
    "| Loan_Status | Loan approved (Y/N) | \n"
   ]
  },
  {
   "cell_type": "markdown",
   "id": "d809d9b6",
   "metadata": {},
   "source": [
    "\n",
    " ###  In total, there are **1440** observations (rows) and each observation represents an employee. There are **13** variables (columns) and below are the variables contained in the dataset:"
   ]
  },
  {
   "cell_type": "code",
   "execution_count": 15,
   "id": "7ac94a35",
   "metadata": {
    "execution": {
     "iopub.execute_input": "2023-05-15T05:46:24.961288Z",
     "iopub.status.busy": "2023-05-15T05:46:24.960791Z",
     "iopub.status.idle": "2023-05-15T05:46:26.230875Z",
     "shell.execute_reply": "2023-05-15T05:46:26.229618Z"
    },
    "papermill": {
     "duration": 1.309627,
     "end_time": "2023-05-15T05:46:26.234231",
     "exception": false,
     "start_time": "2023-05-15T05:46:24.924604",
     "status": "completed"
    },
    "tags": []
   },
   "outputs": [],
   "source": [
    "#Importing libraries\n",
    "\n",
    "import numpy as np\n",
    "import pandas as pd\n",
    "import seaborn as sns\n",
    "import matplotlib.pyplot as plt\n",
    "from imblearn.over_sampling import SMOTE\n",
    "from imblearn.under_sampling import RandomUnderSampler\n",
    "import warnings\n",
    "warnings.filterwarnings(\"ignore\")"
   ]
  },
  {
   "cell_type": "code",
   "execution_count": 29,
   "id": "31b57db4",
   "metadata": {
    "execution": {
     "iopub.execute_input": "2023-05-15T05:46:26.295525Z",
     "iopub.status.busy": "2023-05-15T05:46:26.294461Z",
     "iopub.status.idle": "2023-05-15T05:46:26.323045Z",
     "shell.execute_reply": "2023-05-15T05:46:26.321694Z"
    },
    "papermill": {
     "duration": 0.062389,
     "end_time": "2023-05-15T05:46:26.326083",
     "exception": false,
     "start_time": "2023-05-15T05:46:26.263694",
     "status": "completed"
    },
    "tags": []
   },
   "outputs": [],
   "source": [
    "#Reading the dataset\n",
    "\n",
    "train_df = pd.read_csv('loan approval data.csv')\n",
    "test_df = pd.read_csv('test_feature_construction.csv')"
   ]
  },
  {
   "cell_type": "code",
   "execution_count": 30,
   "id": "4abb9eb2",
   "metadata": {
    "execution": {
     "iopub.execute_input": "2023-05-15T05:46:26.388258Z",
     "iopub.status.busy": "2023-05-15T05:46:26.387820Z",
     "iopub.status.idle": "2023-05-15T05:46:26.393572Z",
     "shell.execute_reply": "2023-05-15T05:46:26.392447Z"
    },
    "papermill": {
     "duration": 0.041568,
     "end_time": "2023-05-15T05:46:26.398447",
     "exception": false,
     "start_time": "2023-05-15T05:46:26.356879",
     "status": "completed"
    },
    "tags": []
   },
   "outputs": [
    {
     "name": "stdout",
     "output_type": "stream",
     "text": [
      "(1212, 13)\n",
      "(228, 13)\n"
     ]
    }
   ],
   "source": [
    "print(train_df.shape)\n",
    "print(test_df.shape)"
   ]
  },
  {
   "cell_type": "code",
   "execution_count": 31,
   "id": "c49345f3",
   "metadata": {},
   "outputs": [
    {
     "name": "stdout",
     "output_type": "stream",
     "text": [
      "<class 'pandas.core.frame.DataFrame'>\n",
      "RangeIndex: 1212 entries, 0 to 1211\n",
      "Data columns (total 13 columns):\n",
      " #   Column             Non-Null Count  Dtype  \n",
      "---  ------             --------------  -----  \n",
      " 0   Loan_ID            1212 non-null   object \n",
      " 1   Gender             1199 non-null   object \n",
      " 2   Married            1209 non-null   object \n",
      " 3   Dependents         1185 non-null   object \n",
      " 4   Education          1212 non-null   object \n",
      " 5   Self_Employed      1180 non-null   object \n",
      " 6   ApplicantIncome    1212 non-null   int64  \n",
      " 7   CoapplicantIncome  1212 non-null   float64\n",
      " 8   LoanAmount         1169 non-null   float64\n",
      " 9   Loan_Amount_Term   1184 non-null   float64\n",
      " 10  Credit_History     1113 non-null   float64\n",
      " 11  Property_Area      1212 non-null   object \n",
      " 12  Loan_Status        1212 non-null   object \n",
      "dtypes: float64(4), int64(1), object(8)\n",
      "memory usage: 123.2+ KB\n"
     ]
    }
   ],
   "source": [
    "train_df.info()"
   ]
  },
  {
   "cell_type": "code",
   "execution_count": 32,
   "id": "b3087450",
   "metadata": {},
   "outputs": [
    {
     "data": {
      "text/plain": [
       "Loan_ID               0\n",
       "Gender               13\n",
       "Married               3\n",
       "Dependents           27\n",
       "Education             0\n",
       "Self_Employed        32\n",
       "ApplicantIncome       0\n",
       "CoapplicantIncome     0\n",
       "LoanAmount           43\n",
       "Loan_Amount_Term     28\n",
       "Credit_History       99\n",
       "Property_Area         0\n",
       "Loan_Status           0\n",
       "dtype: int64"
      ]
     },
     "execution_count": 32,
     "metadata": {},
     "output_type": "execute_result"
    }
   ],
   "source": [
    "train_df.isnull().sum()"
   ]
  },
  {
   "cell_type": "code",
   "execution_count": 33,
   "id": "8f69cc0b",
   "metadata": {},
   "outputs": [
    {
     "data": {
      "text/html": [
       "<div>\n",
       "<style scoped>\n",
       "    .dataframe tbody tr th:only-of-type {\n",
       "        vertical-align: middle;\n",
       "    }\n",
       "\n",
       "    .dataframe tbody tr th {\n",
       "        vertical-align: top;\n",
       "    }\n",
       "\n",
       "    .dataframe thead th {\n",
       "        text-align: right;\n",
       "    }\n",
       "</style>\n",
       "<table border=\"1\" class=\"dataframe\">\n",
       "  <thead>\n",
       "    <tr style=\"text-align: right;\">\n",
       "      <th></th>\n",
       "      <th>ApplicantIncome</th>\n",
       "      <th>CoapplicantIncome</th>\n",
       "      <th>LoanAmount</th>\n",
       "      <th>Loan_Amount_Term</th>\n",
       "      <th>Credit_History</th>\n",
       "    </tr>\n",
       "  </thead>\n",
       "  <tbody>\n",
       "    <tr>\n",
       "      <th>count</th>\n",
       "      <td>1212.000000</td>\n",
       "      <td>1212.000000</td>\n",
       "      <td>1169.000000</td>\n",
       "      <td>1184.000000</td>\n",
       "      <td>1113.000000</td>\n",
       "    </tr>\n",
       "    <tr>\n",
       "      <th>mean</th>\n",
       "      <td>5348.589934</td>\n",
       "      <td>1626.305148</td>\n",
       "      <td>145.699743</td>\n",
       "      <td>341.959459</td>\n",
       "      <td>0.842767</td>\n",
       "    </tr>\n",
       "    <tr>\n",
       "      <th>std</th>\n",
       "      <td>5959.855470</td>\n",
       "      <td>2938.424771</td>\n",
       "      <td>84.143680</td>\n",
       "      <td>65.135103</td>\n",
       "      <td>0.364184</td>\n",
       "    </tr>\n",
       "    <tr>\n",
       "      <th>min</th>\n",
       "      <td>150.000000</td>\n",
       "      <td>0.000000</td>\n",
       "      <td>9.000000</td>\n",
       "      <td>12.000000</td>\n",
       "      <td>0.000000</td>\n",
       "    </tr>\n",
       "    <tr>\n",
       "      <th>25%</th>\n",
       "      <td>2876.000000</td>\n",
       "      <td>0.000000</td>\n",
       "      <td>100.000000</td>\n",
       "      <td>360.000000</td>\n",
       "      <td>1.000000</td>\n",
       "    </tr>\n",
       "    <tr>\n",
       "      <th>50%</th>\n",
       "      <td>3812.000000</td>\n",
       "      <td>1210.000000</td>\n",
       "      <td>127.000000</td>\n",
       "      <td>360.000000</td>\n",
       "      <td>1.000000</td>\n",
       "    </tr>\n",
       "    <tr>\n",
       "      <th>75%</th>\n",
       "      <td>5780.000000</td>\n",
       "      <td>2306.000000</td>\n",
       "      <td>168.000000</td>\n",
       "      <td>360.000000</td>\n",
       "      <td>1.000000</td>\n",
       "    </tr>\n",
       "    <tr>\n",
       "      <th>max</th>\n",
       "      <td>81000.000000</td>\n",
       "      <td>41667.000000</td>\n",
       "      <td>700.000000</td>\n",
       "      <td>480.000000</td>\n",
       "      <td>1.000000</td>\n",
       "    </tr>\n",
       "  </tbody>\n",
       "</table>\n",
       "</div>"
      ],
      "text/plain": [
       "       ApplicantIncome  CoapplicantIncome   LoanAmount  Loan_Amount_Term  \\\n",
       "count      1212.000000        1212.000000  1169.000000       1184.000000   \n",
       "mean       5348.589934        1626.305148   145.699743        341.959459   \n",
       "std        5959.855470        2938.424771    84.143680         65.135103   \n",
       "min         150.000000           0.000000     9.000000         12.000000   \n",
       "25%        2876.000000           0.000000   100.000000        360.000000   \n",
       "50%        3812.000000        1210.000000   127.000000        360.000000   \n",
       "75%        5780.000000        2306.000000   168.000000        360.000000   \n",
       "max       81000.000000       41667.000000   700.000000        480.000000   \n",
       "\n",
       "       Credit_History  \n",
       "count     1113.000000  \n",
       "mean         0.842767  \n",
       "std          0.364184  \n",
       "min          0.000000  \n",
       "25%          1.000000  \n",
       "50%          1.000000  \n",
       "75%          1.000000  \n",
       "max          1.000000  "
      ]
     },
     "execution_count": 33,
     "metadata": {},
     "output_type": "execute_result"
    }
   ],
   "source": [
    "train_df.describe()"
   ]
  },
  {
   "cell_type": "code",
   "execution_count": 8,
   "id": "a92eb175",
   "metadata": {
    "execution": {
     "iopub.execute_input": "2023-05-15T05:46:26.460494Z",
     "iopub.status.busy": "2023-05-15T05:46:26.459546Z",
     "iopub.status.idle": "2023-05-15T05:46:26.467351Z",
     "shell.execute_reply": "2023-05-15T05:46:26.465930Z"
    },
    "papermill": {
     "duration": 0.040958,
     "end_time": "2023-05-15T05:46:26.469907",
     "exception": false,
     "start_time": "2023-05-15T05:46:26.428949",
     "status": "completed"
    },
    "tags": []
   },
   "outputs": [
    {
     "name": "stdout",
     "output_type": "stream",
     "text": [
      "Training-->\n",
      "Index(['Loan_ID', 'Gender', 'Married', 'Dependents', 'Education',\n",
      "       'Self_Employed', 'ApplicantIncome', 'CoapplicantIncome', 'LoanAmount',\n",
      "       'Loan_Amount_Term', 'Credit_History', 'Property_Area', 'Loan_Status'],\n",
      "      dtype='object')\n",
      "Testing-->\n",
      "Index(['Loan_ID', 'Gender', 'Married', 'Dependents', 'Education',\n",
      "       'Self_Employed', 'ApplicantIncome', 'CoapplicantIncome', 'LoanAmount',\n",
      "       'Loan_Amount_Term', 'Credit_History', 'Property_Area', 'Loan_Status'],\n",
      "      dtype='object')\n"
     ]
    }
   ],
   "source": [
    "print('Training-->')\n",
    "print(train_df.columns)\n",
    "print('Testing-->')\n",
    "print(test_df.columns)"
   ]
  },
  {
   "cell_type": "code",
   "execution_count": 34,
   "id": "88c1ae59",
   "metadata": {
    "execution": {
     "iopub.execute_input": "2023-05-15T05:46:26.530258Z",
     "iopub.status.busy": "2023-05-15T05:46:26.529798Z",
     "iopub.status.idle": "2023-05-15T05:46:26.562527Z",
     "shell.execute_reply": "2023-05-15T05:46:26.561246Z"
    },
    "papermill": {
     "duration": 0.066084,
     "end_time": "2023-05-15T05:46:26.565329",
     "exception": false,
     "start_time": "2023-05-15T05:46:26.499245",
     "status": "completed"
    },
    "tags": []
   },
   "outputs": [
    {
     "data": {
      "text/html": [
       "<div>\n",
       "<style scoped>\n",
       "    .dataframe tbody tr th:only-of-type {\n",
       "        vertical-align: middle;\n",
       "    }\n",
       "\n",
       "    .dataframe tbody tr th {\n",
       "        vertical-align: top;\n",
       "    }\n",
       "\n",
       "    .dataframe thead th {\n",
       "        text-align: right;\n",
       "    }\n",
       "</style>\n",
       "<table border=\"1\" class=\"dataframe\">\n",
       "  <thead>\n",
       "    <tr style=\"text-align: right;\">\n",
       "      <th></th>\n",
       "      <th>Loan_ID</th>\n",
       "      <th>Gender</th>\n",
       "      <th>Married</th>\n",
       "      <th>Dependents</th>\n",
       "      <th>Education</th>\n",
       "      <th>Self_Employed</th>\n",
       "      <th>ApplicantIncome</th>\n",
       "      <th>CoapplicantIncome</th>\n",
       "      <th>LoanAmount</th>\n",
       "      <th>Loan_Amount_Term</th>\n",
       "      <th>Credit_History</th>\n",
       "      <th>Property_Area</th>\n",
       "      <th>Loan_Status</th>\n",
       "    </tr>\n",
       "  </thead>\n",
       "  <tbody>\n",
       "    <tr>\n",
       "      <th>0</th>\n",
       "      <td>LP001002</td>\n",
       "      <td>Male</td>\n",
       "      <td>No</td>\n",
       "      <td>0</td>\n",
       "      <td>Graduate</td>\n",
       "      <td>No</td>\n",
       "      <td>5849</td>\n",
       "      <td>0.0</td>\n",
       "      <td>NaN</td>\n",
       "      <td>360.0</td>\n",
       "      <td>1.0</td>\n",
       "      <td>Urban</td>\n",
       "      <td>Y</td>\n",
       "    </tr>\n",
       "    <tr>\n",
       "      <th>1</th>\n",
       "      <td>LP001003</td>\n",
       "      <td>Male</td>\n",
       "      <td>Yes</td>\n",
       "      <td>1</td>\n",
       "      <td>Graduate</td>\n",
       "      <td>No</td>\n",
       "      <td>4583</td>\n",
       "      <td>1508.0</td>\n",
       "      <td>128.0</td>\n",
       "      <td>360.0</td>\n",
       "      <td>1.0</td>\n",
       "      <td>Rural</td>\n",
       "      <td>N</td>\n",
       "    </tr>\n",
       "    <tr>\n",
       "      <th>2</th>\n",
       "      <td>LP001005</td>\n",
       "      <td>Male</td>\n",
       "      <td>Yes</td>\n",
       "      <td>0</td>\n",
       "      <td>Graduate</td>\n",
       "      <td>Yes</td>\n",
       "      <td>3000</td>\n",
       "      <td>0.0</td>\n",
       "      <td>66.0</td>\n",
       "      <td>360.0</td>\n",
       "      <td>1.0</td>\n",
       "      <td>Urban</td>\n",
       "      <td>Y</td>\n",
       "    </tr>\n",
       "    <tr>\n",
       "      <th>3</th>\n",
       "      <td>LP001006</td>\n",
       "      <td>Male</td>\n",
       "      <td>Yes</td>\n",
       "      <td>0</td>\n",
       "      <td>Not Graduate</td>\n",
       "      <td>No</td>\n",
       "      <td>2583</td>\n",
       "      <td>2358.0</td>\n",
       "      <td>120.0</td>\n",
       "      <td>360.0</td>\n",
       "      <td>1.0</td>\n",
       "      <td>Urban</td>\n",
       "      <td>Y</td>\n",
       "    </tr>\n",
       "    <tr>\n",
       "      <th>4</th>\n",
       "      <td>LP001008</td>\n",
       "      <td>Male</td>\n",
       "      <td>No</td>\n",
       "      <td>0</td>\n",
       "      <td>Graduate</td>\n",
       "      <td>No</td>\n",
       "      <td>6000</td>\n",
       "      <td>0.0</td>\n",
       "      <td>141.0</td>\n",
       "      <td>360.0</td>\n",
       "      <td>1.0</td>\n",
       "      <td>Urban</td>\n",
       "      <td>Y</td>\n",
       "    </tr>\n",
       "  </tbody>\n",
       "</table>\n",
       "</div>"
      ],
      "text/plain": [
       "    Loan_ID Gender Married Dependents     Education Self_Employed  \\\n",
       "0  LP001002   Male      No          0      Graduate            No   \n",
       "1  LP001003   Male     Yes          1      Graduate            No   \n",
       "2  LP001005   Male     Yes          0      Graduate           Yes   \n",
       "3  LP001006   Male     Yes          0  Not Graduate            No   \n",
       "4  LP001008   Male      No          0      Graduate            No   \n",
       "\n",
       "   ApplicantIncome  CoapplicantIncome  LoanAmount  Loan_Amount_Term  \\\n",
       "0             5849                0.0         NaN             360.0   \n",
       "1             4583             1508.0       128.0             360.0   \n",
       "2             3000                0.0        66.0             360.0   \n",
       "3             2583             2358.0       120.0             360.0   \n",
       "4             6000                0.0       141.0             360.0   \n",
       "\n",
       "   Credit_History Property_Area Loan_Status  \n",
       "0             1.0         Urban           Y  \n",
       "1             1.0         Rural           N  \n",
       "2             1.0         Urban           Y  \n",
       "3             1.0         Urban           Y  \n",
       "4             1.0         Urban           Y  "
      ]
     },
     "execution_count": 34,
     "metadata": {},
     "output_type": "execute_result"
    }
   ],
   "source": [
    "train_df.head()"
   ]
  },
  {
   "cell_type": "code",
   "execution_count": 35,
   "id": "79d12754",
   "metadata": {
    "execution": {
     "iopub.execute_input": "2023-05-15T05:46:26.627035Z",
     "iopub.status.busy": "2023-05-15T05:46:26.626578Z",
     "iopub.status.idle": "2023-05-15T05:46:26.634541Z",
     "shell.execute_reply": "2023-05-15T05:46:26.633318Z"
    },
    "papermill": {
     "duration": 0.042399,
     "end_time": "2023-05-15T05:46:26.637257",
     "exception": false,
     "start_time": "2023-05-15T05:46:26.594858",
     "status": "completed"
    },
    "tags": []
   },
   "outputs": [
    {
     "data": {
      "text/plain": [
       "(1212, 13)"
      ]
     },
     "execution_count": 35,
     "metadata": {},
     "output_type": "execute_result"
    }
   ],
   "source": [
    "train_df.shape"
   ]
  },
  {
   "cell_type": "markdown",
   "id": "6e692b94",
   "metadata": {
    "papermill": {
     "duration": 0.030272,
     "end_time": "2023-05-15T05:46:26.697769",
     "exception": false,
     "start_time": "2023-05-15T05:46:26.667497",
     "status": "completed"
    },
    "tags": []
   },
   "source": [
    "#  Exploratory Data Analysis (EDA)"
   ]
  },
  {
   "cell_type": "markdown",
   "id": "25d525ac",
   "metadata": {},
   "source": [
    "## Univariate Analysis"
   ]
  },
  {
   "cell_type": "code",
   "execution_count": 10,
   "id": "eca407ad",
   "metadata": {
    "execution": {
     "iopub.execute_input": "2023-05-15T05:46:26.759970Z",
     "iopub.status.busy": "2023-05-15T05:46:26.759539Z",
     "iopub.status.idle": "2023-05-15T05:46:26.768638Z",
     "shell.execute_reply": "2023-05-15T05:46:26.767288Z"
    },
    "papermill": {
     "duration": 0.043601,
     "end_time": "2023-05-15T05:46:26.771318",
     "exception": false,
     "start_time": "2023-05-15T05:46:26.727717",
     "status": "completed"
    },
    "tags": []
   },
   "outputs": [
    {
     "data": {
      "text/plain": [
       "Index(['Loan_ID', 'Gender', 'Married', 'Dependents', 'Education',\n",
       "       'Self_Employed', 'ApplicantIncome', 'CoapplicantIncome', 'LoanAmount',\n",
       "       'Loan_Amount_Term', 'Credit_History', 'Property_Area', 'Loan_Status'],\n",
       "      dtype='object')"
      ]
     },
     "execution_count": 10,
     "metadata": {},
     "output_type": "execute_result"
    }
   ],
   "source": [
    "train_df.columns"
   ]
  },
  {
   "cell_type": "code",
   "execution_count": 11,
   "id": "1d71ec1b",
   "metadata": {
    "execution": {
     "iopub.execute_input": "2023-05-15T05:46:26.833387Z",
     "iopub.status.busy": "2023-05-15T05:46:26.832906Z",
     "iopub.status.idle": "2023-05-15T05:46:26.857452Z",
     "shell.execute_reply": "2023-05-15T05:46:26.856087Z"
    },
    "papermill": {
     "duration": 0.058722,
     "end_time": "2023-05-15T05:46:26.860180",
     "exception": false,
     "start_time": "2023-05-15T05:46:26.801458",
     "status": "completed"
    },
    "tags": []
   },
   "outputs": [
    {
     "data": {
      "text/html": [
       "<div>\n",
       "<style scoped>\n",
       "    .dataframe tbody tr th:only-of-type {\n",
       "        vertical-align: middle;\n",
       "    }\n",
       "\n",
       "    .dataframe tbody tr th {\n",
       "        vertical-align: top;\n",
       "    }\n",
       "\n",
       "    .dataframe thead th {\n",
       "        text-align: right;\n",
       "    }\n",
       "</style>\n",
       "<table border=\"1\" class=\"dataframe\">\n",
       "  <thead>\n",
       "    <tr style=\"text-align: right;\">\n",
       "      <th></th>\n",
       "      <th>Loan_ID</th>\n",
       "      <th>Gender</th>\n",
       "      <th>Married</th>\n",
       "      <th>Dependents</th>\n",
       "      <th>Education</th>\n",
       "      <th>Self_Employed</th>\n",
       "      <th>ApplicantIncome</th>\n",
       "      <th>CoapplicantIncome</th>\n",
       "      <th>LoanAmount</th>\n",
       "      <th>Loan_Amount_Term</th>\n",
       "      <th>Credit_History</th>\n",
       "      <th>Property_Area</th>\n",
       "      <th>Loan_Status</th>\n",
       "    </tr>\n",
       "  </thead>\n",
       "  <tbody>\n",
       "    <tr>\n",
       "      <th>0</th>\n",
       "      <td>LP001002</td>\n",
       "      <td>Male</td>\n",
       "      <td>No</td>\n",
       "      <td>0</td>\n",
       "      <td>Graduate</td>\n",
       "      <td>No</td>\n",
       "      <td>5849</td>\n",
       "      <td>0.0</td>\n",
       "      <td>NaN</td>\n",
       "      <td>360.0</td>\n",
       "      <td>1.0</td>\n",
       "      <td>Urban</td>\n",
       "      <td>Y</td>\n",
       "    </tr>\n",
       "    <tr>\n",
       "      <th>1</th>\n",
       "      <td>LP001003</td>\n",
       "      <td>Male</td>\n",
       "      <td>Yes</td>\n",
       "      <td>1</td>\n",
       "      <td>Graduate</td>\n",
       "      <td>No</td>\n",
       "      <td>4583</td>\n",
       "      <td>1508.0</td>\n",
       "      <td>128.0</td>\n",
       "      <td>360.0</td>\n",
       "      <td>1.0</td>\n",
       "      <td>Rural</td>\n",
       "      <td>N</td>\n",
       "    </tr>\n",
       "    <tr>\n",
       "      <th>2</th>\n",
       "      <td>LP001005</td>\n",
       "      <td>Male</td>\n",
       "      <td>Yes</td>\n",
       "      <td>0</td>\n",
       "      <td>Graduate</td>\n",
       "      <td>Yes</td>\n",
       "      <td>3000</td>\n",
       "      <td>0.0</td>\n",
       "      <td>66.0</td>\n",
       "      <td>360.0</td>\n",
       "      <td>1.0</td>\n",
       "      <td>Urban</td>\n",
       "      <td>Y</td>\n",
       "    </tr>\n",
       "    <tr>\n",
       "      <th>3</th>\n",
       "      <td>LP001006</td>\n",
       "      <td>Male</td>\n",
       "      <td>Yes</td>\n",
       "      <td>0</td>\n",
       "      <td>Not Graduate</td>\n",
       "      <td>No</td>\n",
       "      <td>2583</td>\n",
       "      <td>2358.0</td>\n",
       "      <td>120.0</td>\n",
       "      <td>360.0</td>\n",
       "      <td>1.0</td>\n",
       "      <td>Urban</td>\n",
       "      <td>Y</td>\n",
       "    </tr>\n",
       "    <tr>\n",
       "      <th>4</th>\n",
       "      <td>LP001008</td>\n",
       "      <td>Male</td>\n",
       "      <td>No</td>\n",
       "      <td>0</td>\n",
       "      <td>Graduate</td>\n",
       "      <td>No</td>\n",
       "      <td>6000</td>\n",
       "      <td>0.0</td>\n",
       "      <td>141.0</td>\n",
       "      <td>360.0</td>\n",
       "      <td>1.0</td>\n",
       "      <td>Urban</td>\n",
       "      <td>Y</td>\n",
       "    </tr>\n",
       "  </tbody>\n",
       "</table>\n",
       "</div>"
      ],
      "text/plain": [
       "    Loan_ID Gender Married Dependents     Education Self_Employed  \\\n",
       "0  LP001002   Male      No          0      Graduate            No   \n",
       "1  LP001003   Male     Yes          1      Graduate            No   \n",
       "2  LP001005   Male     Yes          0      Graduate           Yes   \n",
       "3  LP001006   Male     Yes          0  Not Graduate            No   \n",
       "4  LP001008   Male      No          0      Graduate            No   \n",
       "\n",
       "   ApplicantIncome  CoapplicantIncome  LoanAmount  Loan_Amount_Term  \\\n",
       "0             5849                0.0         NaN             360.0   \n",
       "1             4583             1508.0       128.0             360.0   \n",
       "2             3000                0.0        66.0             360.0   \n",
       "3             2583             2358.0       120.0             360.0   \n",
       "4             6000                0.0       141.0             360.0   \n",
       "\n",
       "   Credit_History Property_Area Loan_Status  \n",
       "0             1.0         Urban           Y  \n",
       "1             1.0         Rural           N  \n",
       "2             1.0         Urban           Y  \n",
       "3             1.0         Urban           Y  \n",
       "4             1.0         Urban           Y  "
      ]
     },
     "execution_count": 11,
     "metadata": {},
     "output_type": "execute_result"
    }
   ],
   "source": [
    "train_df.head()"
   ]
  },
  {
   "cell_type": "markdown",
   "id": "6a60aa34",
   "metadata": {},
   "source": [
    "## 1. Analaysis on Loan_Status col"
   ]
  },
  {
   "cell_type": "code",
   "execution_count": 40,
   "id": "99dda575",
   "metadata": {},
   "outputs": [
    {
     "data": {
      "text/plain": [
       "Loan_Status\n",
       "Y    833\n",
       "N    379\n",
       "Name: count, dtype: int64"
      ]
     },
     "execution_count": 40,
     "metadata": {},
     "output_type": "execute_result"
    }
   ],
   "source": [
    "train_df['Loan_Status'].value_counts()"
   ]
  },
  {
   "cell_type": "markdown",
   "id": "a266e605",
   "metadata": {},
   "source": [
    "### Percentage of Loan approval status as Approved or not "
   ]
  },
  {
   "cell_type": "code",
   "execution_count": 39,
   "id": "18beca52",
   "metadata": {
    "execution": {
     "iopub.execute_input": "2023-05-15T05:46:26.924493Z",
     "iopub.status.busy": "2023-05-15T05:46:26.924014Z",
     "iopub.status.idle": "2023-05-15T05:46:26.942160Z",
     "shell.execute_reply": "2023-05-15T05:46:26.941186Z"
    },
    "papermill": {
     "duration": 0.052925,
     "end_time": "2023-05-15T05:46:26.944651",
     "exception": false,
     "start_time": "2023-05-15T05:46:26.891726",
     "status": "completed"
    },
    "tags": []
   },
   "outputs": [
    {
     "data": {
      "text/plain": [
       "Loan_Status\n",
       "Y    68.729373\n",
       "N    31.270627\n",
       "Name: proportion, dtype: float64"
      ]
     },
     "execution_count": 39,
     "metadata": {},
     "output_type": "execute_result"
    }
   ],
   "source": [
    "train_df['Loan_Status'].value_counts(normalize=True)*100"
   ]
  },
  {
   "cell_type": "markdown",
   "id": "5a68183d",
   "metadata": {
    "papermill": {
     "duration": 0.032345,
     "end_time": "2023-05-15T05:46:27.008152",
     "exception": false,
     "start_time": "2023-05-15T05:46:26.975807",
     "status": "completed"
    },
    "tags": []
   },
   "source": [
    "> *So there were more loan approved than loan rejection.*"
   ]
  },
  {
   "cell_type": "markdown",
   "id": "bdac5ce0",
   "metadata": {},
   "source": [
    "## 2. Analaysis on Gender col"
   ]
  },
  {
   "cell_type": "code",
   "execution_count": 36,
   "id": "7a4cb0a5",
   "metadata": {
    "execution": {
     "iopub.execute_input": "2023-05-15T05:46:27.070531Z",
     "iopub.status.busy": "2023-05-15T05:46:27.070108Z",
     "iopub.status.idle": "2023-05-15T05:46:27.079953Z",
     "shell.execute_reply": "2023-05-15T05:46:27.078972Z"
    },
    "papermill": {
     "duration": 0.043836,
     "end_time": "2023-05-15T05:46:27.082280",
     "exception": false,
     "start_time": "2023-05-15T05:46:27.038444",
     "status": "completed"
    },
    "tags": []
   },
   "outputs": [
    {
     "data": {
      "text/plain": [
       "Gender\n",
       "Male      976\n",
       "Female    223\n",
       "Name: count, dtype: int64"
      ]
     },
     "execution_count": 36,
     "metadata": {},
     "output_type": "execute_result"
    }
   ],
   "source": [
    "train_df['Gender'].value_counts()"
   ]
  },
  {
   "cell_type": "markdown",
   "id": "a0f588c0",
   "metadata": {},
   "source": [
    "### Percentage of Loan approval for Male and Female"
   ]
  },
  {
   "cell_type": "code",
   "execution_count": 38,
   "id": "d98ecc13",
   "metadata": {},
   "outputs": [
    {
     "data": {
      "text/plain": [
       "Gender\n",
       "Male      81.401168\n",
       "Female    18.598832\n",
       "Name: proportion, dtype: float64"
      ]
     },
     "execution_count": 38,
     "metadata": {},
     "output_type": "execute_result"
    }
   ],
   "source": [
    "train_df['Gender'].value_counts(normalize=True)*100"
   ]
  },
  {
   "cell_type": "code",
   "execution_count": 15,
   "id": "348db136",
   "metadata": {
    "execution": {
     "iopub.execute_input": "2023-05-15T05:46:27.233490Z",
     "iopub.status.busy": "2023-05-15T05:46:27.233081Z",
     "iopub.status.idle": "2023-05-15T05:46:28.081371Z",
     "shell.execute_reply": "2023-05-15T05:46:28.080016Z"
    },
    "papermill": {
     "duration": 0.883696,
     "end_time": "2023-05-15T05:46:28.084145",
     "exception": false,
     "start_time": "2023-05-15T05:46:27.200449",
     "status": "completed"
    },
    "tags": []
   },
   "outputs": [
    {
     "data": {
      "text/plain": [
       "<seaborn.axisgrid.FacetGrid at 0x18d56b53860>"
      ]
     },
     "execution_count": 15,
     "metadata": {},
     "output_type": "execute_result"
    },
    {
     "data": {
      "image/png": "[encoded data removed]",
      "text/plain": [
       "<Figure size 600.25x500 with 1 Axes>"
      ]
     },
     "metadata": {},
     "output_type": "display_data"
    }
   ],
   "source": [
    "sns.displot(x='LoanAmount', hue='Gender', data=train_df, kde=True)"
   ]
  },
  {
   "cell_type": "markdown",
   "id": "af2630c4",
   "metadata": {
    "papermill": {
     "duration": 0.031104,
     "end_time": "2023-05-15T05:46:28.211183",
     "exception": false,
     "start_time": "2023-05-15T05:46:28.180079",
     "status": "completed"
    },
    "tags": []
   },
   "source": [
    "> *There were more Male than Female asking for Loan.*"
   ]
  },
  {
   "cell_type": "markdown",
   "id": "f477f370",
   "metadata": {},
   "source": [
    "3. Analaysis on Married col"
   ]
  },
  {
   "cell_type": "code",
   "execution_count": 41,
   "id": "df4e26aa",
   "metadata": {},
   "outputs": [
    {
     "data": {
      "text/plain": [
       "Married\n",
       "Yes    786\n",
       "No     423\n",
       "Name: count, dtype: int64"
      ]
     },
     "execution_count": 41,
     "metadata": {},
     "output_type": "execute_result"
    }
   ],
   "source": [
    "train_df['Married'].value_counts()"
   ]
  },
  {
   "cell_type": "markdown",
   "id": "929e1f47",
   "metadata": {},
   "source": [
    "### Percentage of Loan approval for Married and Non-Married people"
   ]
  },
  {
   "cell_type": "code",
   "execution_count": 42,
   "id": "1c25f377",
   "metadata": {
    "execution": {
     "iopub.execute_input": "2023-05-15T05:46:28.276607Z",
     "iopub.status.busy": "2023-05-15T05:46:28.275617Z",
     "iopub.status.idle": "2023-05-15T05:46:28.287358Z",
     "shell.execute_reply": "2023-05-15T05:46:28.285893Z"
    },
    "papermill": {
     "duration": 0.047584,
     "end_time": "2023-05-15T05:46:28.290142",
     "exception": false,
     "start_time": "2023-05-15T05:46:28.242558",
     "status": "completed"
    },
    "tags": []
   },
   "outputs": [
    {
     "data": {
      "text/plain": [
       "Married\n",
       "Yes    65.012407\n",
       "No     34.987593\n",
       "Name: proportion, dtype: float64"
      ]
     },
     "execution_count": 42,
     "metadata": {},
     "output_type": "execute_result"
    }
   ],
   "source": [
    "train_df['Married'].value_counts(normalize=True)*100"
   ]
  },
  {
   "cell_type": "code",
   "execution_count": 18,
   "id": "e781cd6c",
   "metadata": {
    "execution": {
     "iopub.execute_input": "2023-05-15T05:46:28.436177Z",
     "iopub.status.busy": "2023-05-15T05:46:28.435664Z",
     "iopub.status.idle": "2023-05-15T05:46:28.447507Z",
     "shell.execute_reply": "2023-05-15T05:46:28.446123Z"
    },
    "papermill": {
     "duration": 0.047268,
     "end_time": "2023-05-15T05:46:28.450064",
     "exception": false,
     "start_time": "2023-05-15T05:46:28.402796",
     "status": "completed"
    },
    "tags": []
   },
   "outputs": [
    {
     "data": {
      "text/plain": [
       "0       False\n",
       "1       False\n",
       "2        True\n",
       "3        True\n",
       "4       False\n",
       "        ...  \n",
       "1207    False\n",
       "1208     True\n",
       "1209     True\n",
       "1210     True\n",
       "1211    False\n",
       "Length: 1212, dtype: bool"
      ]
     },
     "execution_count": 18,
     "metadata": {},
     "output_type": "execute_result"
    }
   ],
   "source": [
    "(train_df['Married']=='Yes') & (train_df['Loan_Status']=='Y')"
   ]
  },
  {
   "cell_type": "markdown",
   "id": "199e7fa9",
   "metadata": {},
   "source": [
    "> *> *Here, data is implies that Married people are more likely to get approved for Loan.**"
   ]
  },
  {
   "cell_type": "markdown",
   "id": "1b83d5b9",
   "metadata": {},
   "source": [
    "## 4. Analaysis on Dependents col"
   ]
  },
  {
   "cell_type": "code",
   "execution_count": 43,
   "id": "988a659c",
   "metadata": {},
   "outputs": [
    {
     "data": {
      "text/plain": [
       "Dependents\n",
       "0     683\n",
       "1     203\n",
       "2     200\n",
       "3+     51\n",
       "3      48\n",
       "Name: count, dtype: int64"
      ]
     },
     "execution_count": 43,
     "metadata": {},
     "output_type": "execute_result"
    }
   ],
   "source": [
    "train_df['Dependents'].value_counts()"
   ]
  },
  {
   "cell_type": "code",
   "execution_count": 44,
   "id": "6ad6c86d",
   "metadata": {},
   "outputs": [
    {
     "data": {
      "text/plain": [
       "Dependents\n",
       "0     57.637131\n",
       "1     17.130802\n",
       "2     16.877637\n",
       "3+     4.303797\n",
       "3      4.050633\n",
       "Name: proportion, dtype: float64"
      ]
     },
     "execution_count": 44,
     "metadata": {},
     "output_type": "execute_result"
    }
   ],
   "source": [
    "train_df['Dependents'].value_counts(normalize=True)*100"
   ]
  },
  {
   "cell_type": "markdown",
   "id": "de74983c",
   "metadata": {},
   "source": [
    "## 5. Analaysis on Education col"
   ]
  },
  {
   "cell_type": "code",
   "execution_count": 45,
   "id": "8a2db892",
   "metadata": {},
   "outputs": [
    {
     "data": {
      "text/plain": [
       "Education\n",
       "Graduate        945\n",
       "Not Graduate    267\n",
       "Name: count, dtype: int64"
      ]
     },
     "execution_count": 45,
     "metadata": {},
     "output_type": "execute_result"
    }
   ],
   "source": [
    "train_df['Education'].value_counts()"
   ]
  },
  {
   "cell_type": "code",
   "execution_count": 46,
   "id": "a357ed5b",
   "metadata": {},
   "outputs": [
    {
     "data": {
      "text/plain": [
       "Education\n",
       "Graduate        77.970297\n",
       "Not Graduate    22.029703\n",
       "Name: proportion, dtype: float64"
      ]
     },
     "execution_count": 46,
     "metadata": {},
     "output_type": "execute_result"
    }
   ],
   "source": [
    "train_df['Education'].value_counts(normalize=True)*100"
   ]
  },
  {
   "cell_type": "markdown",
   "id": "88f91159",
   "metadata": {},
   "source": [
    "## 6. Analaysis on Property_Area col"
   ]
  },
  {
   "cell_type": "code",
   "execution_count": 48,
   "id": "43397517",
   "metadata": {},
   "outputs": [
    {
     "data": {
      "text/plain": [
       "Property_Area\n",
       "Semiurban    458\n",
       "Urban        400\n",
       "Rural        354\n",
       "Name: count, dtype: int64"
      ]
     },
     "execution_count": 48,
     "metadata": {},
     "output_type": "execute_result"
    }
   ],
   "source": [
    "train_df['Property_Area'].value_counts()"
   ]
  },
  {
   "cell_type": "code",
   "execution_count": 47,
   "id": "afe69cdc",
   "metadata": {},
   "outputs": [
    {
     "data": {
      "text/plain": [
       "Property_Area\n",
       "Semiurban    37.788779\n",
       "Urban        33.003300\n",
       "Rural        29.207921\n",
       "Name: proportion, dtype: float64"
      ]
     },
     "execution_count": 47,
     "metadata": {},
     "output_type": "execute_result"
    }
   ],
   "source": [
    "train_df['Property_Area'].value_counts(normalize=True)*100"
   ]
  },
  {
   "cell_type": "markdown",
   "id": "cd7c36cb",
   "metadata": {},
   "source": [
    "## Bivariate Analysis"
   ]
  },
  {
   "cell_type": "code",
   "execution_count": 49,
   "id": "5c12e27b",
   "metadata": {
    "execution": {
     "iopub.execute_input": "2023-05-15T05:46:28.579614Z",
     "iopub.status.busy": "2023-05-15T05:46:28.579158Z",
     "iopub.status.idle": "2023-05-15T05:46:28.592314Z",
     "shell.execute_reply": "2023-05-15T05:46:28.591157Z"
    },
    "papermill": {
     "duration": 0.049437,
     "end_time": "2023-05-15T05:46:28.595384",
     "exception": false,
     "start_time": "2023-05-15T05:46:28.545947",
     "status": "completed"
    },
    "tags": []
   },
   "outputs": [
    {
     "data": {
      "text/plain": [
       "Gender\n",
       "Male      91.756272\n",
       "Female     8.243728\n",
       "Name: proportion, dtype: float64"
      ]
     },
     "execution_count": 49,
     "metadata": {},
     "output_type": "execute_result"
    }
   ],
   "source": [
    "train_df[(train_df['Married']=='Yes') & (train_df['Loan_Status']=='Y')]['Gender'].value_counts(normalize=True)*100"
   ]
  },
  {
   "cell_type": "code",
   "execution_count": 50,
   "id": "7857801f",
   "metadata": {
    "execution": {
     "iopub.execute_input": "2023-05-15T05:46:28.662676Z",
     "iopub.status.busy": "2023-05-15T05:46:28.662233Z",
     "iopub.status.idle": "2023-05-15T05:46:28.674337Z",
     "shell.execute_reply": "2023-05-15T05:46:28.673273Z"
    },
    "papermill": {
     "duration": 0.047981,
     "end_time": "2023-05-15T05:46:28.676647",
     "exception": false,
     "start_time": "2023-05-15T05:46:28.628666",
     "status": "completed"
    },
    "tags": []
   },
   "outputs": [
    {
     "data": {
      "text/plain": [
       "Gender\n",
       "Male      61.363636\n",
       "Female    38.636364\n",
       "Name: proportion, dtype: float64"
      ]
     },
     "execution_count": 50,
     "metadata": {},
     "output_type": "execute_result"
    }
   ],
   "source": [
    "train_df[(train_df['Married']=='No') & (train_df['Loan_Status']=='Y')]['Gender'].value_counts(normalize=True)*100"
   ]
  },
  {
   "cell_type": "markdown",
   "id": "d62195bd",
   "metadata": {
    "papermill": {
     "duration": 0.031551,
     "end_time": "2023-05-15T05:46:28.740296",
     "exception": false,
     "start_time": "2023-05-15T05:46:28.708745",
     "status": "completed"
    },
    "tags": []
   },
   "source": [
    "> *This dataset consist of ~81% Male, but for Married couple ~91% of loan taker are Male jumping from ~61% Male in Non Married Category.*"
   ]
  },
  {
   "cell_type": "code",
   "execution_count": 23,
   "id": "d07c95d3",
   "metadata": {
    "execution": {
     "iopub.execute_input": "2023-05-15T05:46:28.978582Z",
     "iopub.status.busy": "2023-05-15T05:46:28.978104Z",
     "iopub.status.idle": "2023-05-15T05:46:28.993381Z",
     "shell.execute_reply": "2023-05-15T05:46:28.991431Z"
    },
    "papermill": {
     "duration": 0.052504,
     "end_time": "2023-05-15T05:46:28.996192",
     "exception": false,
     "start_time": "2023-05-15T05:46:28.943688",
     "status": "completed"
    },
    "tags": []
   },
   "outputs": [
    {
     "name": "stdout",
     "output_type": "stream",
     "text": [
      "Loan_Status\n",
      "Y    0.707937\n",
      "N    0.292063\n",
      "Name: proportion, dtype: float64\n",
      "Loan_Status\n",
      "Y    0.614232\n",
      "N    0.385768\n",
      "Name: proportion, dtype: float64\n"
     ]
    }
   ],
   "source": [
    "Graduate_approval_percentage = train_df[train_df['Education']=='Graduate']['Loan_Status'].value_counts(normalize=True)\n",
    "Non_Graduate_approval_percentage = train_df[train_df['Education']=='Not Graduate']['Loan_Status'].value_counts(normalize=True)\n",
    "print(Graduate_approval_percentage)\n",
    "print(Non_Graduate_approval_percentage)"
   ]
  },
  {
   "cell_type": "markdown",
   "id": "49d11993",
   "metadata": {
    "papermill": {
     "duration": 0.032222,
     "end_time": "2023-05-15T05:46:29.062382",
     "exception": false,
     "start_time": "2023-05-15T05:46:29.030160",
     "status": "completed"
    },
    "tags": []
   },
   "source": [
    "> *Being a graduate, your Loan Approval percentage jumps by ~10%.*"
   ]
  },
  {
   "cell_type": "code",
   "execution_count": 24,
   "id": "b4573bdc",
   "metadata": {
    "execution": {
     "iopub.execute_input": "2023-05-15T05:46:29.129706Z",
     "iopub.status.busy": "2023-05-15T05:46:29.129249Z",
     "iopub.status.idle": "2023-05-15T05:46:29.327533Z",
     "shell.execute_reply": "2023-05-15T05:46:29.326363Z"
    },
    "papermill": {
     "duration": 0.23538,
     "end_time": "2023-05-15T05:46:29.330249",
     "exception": false,
     "start_time": "2023-05-15T05:46:29.094869",
     "status": "completed"
    },
    "tags": []
   },
   "outputs": [
    {
     "name": "stdout",
     "output_type": "stream",
     "text": [
      "Self_Employed\n",
      "No     988\n",
      "Yes    192\n",
      "Name: count, dtype: int64\n"
     ]
    },
    {
     "data": {
      "image/png": "[encoded data removed]",
      "text/plain": [
       "<Figure size 640x480 with 1 Axes>"
      ]
     },
     "metadata": {},
     "output_type": "display_data"
    }
   ],
   "source": [
    "sns.countplot(x='Self_Employed', data=train_df)\n",
    "print(train_df['Self_Employed'].value_counts())"
   ]
  },
  {
   "cell_type": "code",
   "execution_count": 25,
   "id": "fa508e3b",
   "metadata": {
    "execution": {
     "iopub.execute_input": "2023-05-15T05:46:29.399630Z",
     "iopub.status.busy": "2023-05-15T05:46:29.399169Z",
     "iopub.status.idle": "2023-05-15T05:46:29.601226Z",
     "shell.execute_reply": "2023-05-15T05:46:29.599774Z"
    },
    "papermill": {
     "duration": 0.240881,
     "end_time": "2023-05-15T05:46:29.604189",
     "exception": false,
     "start_time": "2023-05-15T05:46:29.363308",
     "status": "completed"
    },
    "tags": []
   },
   "outputs": [
    {
     "name": "stdout",
     "output_type": "stream",
     "text": [
      "Self Employed------>\n",
      "Loan_Status\n",
      "Y    0.682292\n",
      "N    0.317708\n",
      "Name: proportion, dtype: float64\n",
      "Self UnEmployed------>\n",
      "Loan_Status\n",
      "Y    0.687247\n",
      "N    0.312753\n",
      "Name: proportion, dtype: float64\n"
     ]
    },
    {
     "data": {
      "text/plain": [
       "<Axes: xlabel='Loan_Status', ylabel='count'>"
      ]
     },
     "execution_count": 25,
     "metadata": {},
     "output_type": "execute_result"
    },
    {
     "data": {
      "image/png": "[encoded data removed]",
      "text/plain": [
       "<Figure size 640x480 with 1 Axes>"
      ]
     },
     "metadata": {},
     "output_type": "display_data"
    }
   ],
   "source": [
    "Self_Employed = train_df[train_df['Self_Employed']=='Yes']\n",
    "Self_UnEmployed = train_df[train_df['Self_Employed']=='No']\n",
    "print('Self Employed------>')\n",
    "print(Self_Employed['Loan_Status'].value_counts(normalize=True))\n",
    "print('Self UnEmployed------>')\n",
    "print(Self_UnEmployed['Loan_Status'].value_counts(normalize=True))\n",
    "sns.countplot(x='Loan_Status', data=Self_Employed)\n"
   ]
  },
  {
   "cell_type": "code",
   "execution_count": 26,
   "id": "a062ac58",
   "metadata": {
    "execution": {
     "iopub.execute_input": "2023-05-15T05:46:29.673065Z",
     "iopub.status.busy": "2023-05-15T05:46:29.672622Z",
     "iopub.status.idle": "2023-05-15T05:46:29.879258Z",
     "shell.execute_reply": "2023-05-15T05:46:29.877931Z"
    },
    "papermill": {
     "duration": 0.244877,
     "end_time": "2023-05-15T05:46:29.882548",
     "exception": false,
     "start_time": "2023-05-15T05:46:29.637671",
     "status": "completed"
    },
    "tags": []
   },
   "outputs": [
    {
     "data": {
      "text/plain": [
       "<Axes: xlabel='Loan_Status', ylabel='count'>"
      ]
     },
     "execution_count": 26,
     "metadata": {},
     "output_type": "execute_result"
    },
    {
     "data": {
      "image/png": "[encoded data removed]",
      "text/plain": [
       "<Figure size 640x480 with 1 Axes>"
      ]
     },
     "metadata": {},
     "output_type": "display_data"
    }
   ],
   "source": [
    "sns.countplot(x='Loan_Status', data=Self_UnEmployed)"
   ]
  },
  {
   "cell_type": "markdown",
   "id": "eae5ca57",
   "metadata": {
    "papermill": {
     "duration": 0.034173,
     "end_time": "2023-05-15T05:46:29.950674",
     "exception": false,
     "start_time": "2023-05-15T05:46:29.916501",
     "status": "completed"
    },
    "tags": []
   },
   "source": [
    "> *Not much differnce approval acceptance whether one is Employed or not.*"
   ]
  },
  {
   "cell_type": "code",
   "execution_count": 27,
   "id": "ec611feb",
   "metadata": {
    "execution": {
     "iopub.execute_input": "2023-05-15T05:46:30.020719Z",
     "iopub.status.busy": "2023-05-15T05:46:30.020290Z",
     "iopub.status.idle": "2023-05-15T05:46:30.043703Z",
     "shell.execute_reply": "2023-05-15T05:46:30.042501Z"
    },
    "papermill": {
     "duration": 0.061657,
     "end_time": "2023-05-15T05:46:30.046286",
     "exception": false,
     "start_time": "2023-05-15T05:46:29.984629",
     "status": "completed"
    },
    "tags": []
   },
   "outputs": [
    {
     "data": {
      "text/html": [
       "<div>\n",
       "<style scoped>\n",
       "    .dataframe tbody tr th:only-of-type {\n",
       "        vertical-align: middle;\n",
       "    }\n",
       "\n",
       "    .dataframe tbody tr th {\n",
       "        vertical-align: top;\n",
       "    }\n",
       "\n",
       "    .dataframe thead th {\n",
       "        text-align: right;\n",
       "    }\n",
       "</style>\n",
       "<table border=\"1\" class=\"dataframe\">\n",
       "  <thead>\n",
       "    <tr style=\"text-align: right;\">\n",
       "      <th></th>\n",
       "      <th>Loan_ID</th>\n",
       "      <th>Gender</th>\n",
       "      <th>Married</th>\n",
       "      <th>Dependents</th>\n",
       "      <th>Education</th>\n",
       "      <th>Self_Employed</th>\n",
       "      <th>ApplicantIncome</th>\n",
       "      <th>CoapplicantIncome</th>\n",
       "      <th>LoanAmount</th>\n",
       "      <th>Loan_Amount_Term</th>\n",
       "      <th>Credit_History</th>\n",
       "      <th>Property_Area</th>\n",
       "      <th>Loan_Status</th>\n",
       "    </tr>\n",
       "  </thead>\n",
       "  <tbody>\n",
       "    <tr>\n",
       "      <th>0</th>\n",
       "      <td>LP001002</td>\n",
       "      <td>Male</td>\n",
       "      <td>No</td>\n",
       "      <td>0</td>\n",
       "      <td>Graduate</td>\n",
       "      <td>No</td>\n",
       "      <td>5849</td>\n",
       "      <td>0.0</td>\n",
       "      <td>NaN</td>\n",
       "      <td>360.0</td>\n",
       "      <td>1.0</td>\n",
       "      <td>Urban</td>\n",
       "      <td>Y</td>\n",
       "    </tr>\n",
       "    <tr>\n",
       "      <th>1</th>\n",
       "      <td>LP001003</td>\n",
       "      <td>Male</td>\n",
       "      <td>Yes</td>\n",
       "      <td>1</td>\n",
       "      <td>Graduate</td>\n",
       "      <td>No</td>\n",
       "      <td>4583</td>\n",
       "      <td>1508.0</td>\n",
       "      <td>128.0</td>\n",
       "      <td>360.0</td>\n",
       "      <td>1.0</td>\n",
       "      <td>Rural</td>\n",
       "      <td>N</td>\n",
       "    </tr>\n",
       "    <tr>\n",
       "      <th>2</th>\n",
       "      <td>LP001005</td>\n",
       "      <td>Male</td>\n",
       "      <td>Yes</td>\n",
       "      <td>0</td>\n",
       "      <td>Graduate</td>\n",
       "      <td>Yes</td>\n",
       "      <td>3000</td>\n",
       "      <td>0.0</td>\n",
       "      <td>66.0</td>\n",
       "      <td>360.0</td>\n",
       "      <td>1.0</td>\n",
       "      <td>Urban</td>\n",
       "      <td>Y</td>\n",
       "    </tr>\n",
       "    <tr>\n",
       "      <th>3</th>\n",
       "      <td>LP001006</td>\n",
       "      <td>Male</td>\n",
       "      <td>Yes</td>\n",
       "      <td>0</td>\n",
       "      <td>Not Graduate</td>\n",
       "      <td>No</td>\n",
       "      <td>2583</td>\n",
       "      <td>2358.0</td>\n",
       "      <td>120.0</td>\n",
       "      <td>360.0</td>\n",
       "      <td>1.0</td>\n",
       "      <td>Urban</td>\n",
       "      <td>Y</td>\n",
       "    </tr>\n",
       "    <tr>\n",
       "      <th>4</th>\n",
       "      <td>LP001008</td>\n",
       "      <td>Male</td>\n",
       "      <td>No</td>\n",
       "      <td>0</td>\n",
       "      <td>Graduate</td>\n",
       "      <td>No</td>\n",
       "      <td>6000</td>\n",
       "      <td>0.0</td>\n",
       "      <td>141.0</td>\n",
       "      <td>360.0</td>\n",
       "      <td>1.0</td>\n",
       "      <td>Urban</td>\n",
       "      <td>Y</td>\n",
       "    </tr>\n",
       "  </tbody>\n",
       "</table>\n",
       "</div>"
      ],
      "text/plain": [
       "    Loan_ID Gender Married Dependents     Education Self_Employed  \\\n",
       "0  LP001002   Male      No          0      Graduate            No   \n",
       "1  LP001003   Male     Yes          1      Graduate            No   \n",
       "2  LP001005   Male     Yes          0      Graduate           Yes   \n",
       "3  LP001006   Male     Yes          0  Not Graduate            No   \n",
       "4  LP001008   Male      No          0      Graduate            No   \n",
       "\n",
       "   ApplicantIncome  CoapplicantIncome  LoanAmount  Loan_Amount_Term  \\\n",
       "0             5849                0.0         NaN             360.0   \n",
       "1             4583             1508.0       128.0             360.0   \n",
       "2             3000                0.0        66.0             360.0   \n",
       "3             2583             2358.0       120.0             360.0   \n",
       "4             6000                0.0       141.0             360.0   \n",
       "\n",
       "   Credit_History Property_Area Loan_Status  \n",
       "0             1.0         Urban           Y  \n",
       "1             1.0         Rural           N  \n",
       "2             1.0         Urban           Y  \n",
       "3             1.0         Urban           Y  \n",
       "4             1.0         Urban           Y  "
      ]
     },
     "execution_count": 27,
     "metadata": {},
     "output_type": "execute_result"
    }
   ],
   "source": [
    "train_df.head()"
   ]
  },
  {
   "cell_type": "code",
   "execution_count": 28,
   "id": "15465c2f",
   "metadata": {
    "execution": {
     "iopub.execute_input": "2023-05-15T05:46:30.117135Z",
     "iopub.status.busy": "2023-05-15T05:46:30.116194Z",
     "iopub.status.idle": "2023-05-15T05:46:30.125354Z",
     "shell.execute_reply": "2023-05-15T05:46:30.124222Z"
    },
    "papermill": {
     "duration": 0.048526,
     "end_time": "2023-05-15T05:46:30.128859",
     "exception": false,
     "start_time": "2023-05-15T05:46:30.080333",
     "status": "completed"
    },
    "tags": []
   },
   "outputs": [
    {
     "data": {
      "text/plain": [
       "array([360., 120., 240.,  nan, 180.,  60., 300., 480.,  36.,  84.,  12.])"
      ]
     },
     "execution_count": 28,
     "metadata": {},
     "output_type": "execute_result"
    }
   ],
   "source": [
    "train_df['Loan_Amount_Term'].unique()"
   ]
  },
  {
   "cell_type": "markdown",
   "id": "9dde61b8",
   "metadata": {
    "papermill": {
     "duration": 0.036428,
     "end_time": "2023-05-15T05:46:30.204182",
     "exception": false,
     "start_time": "2023-05-15T05:46:30.167754",
     "status": "completed"
    },
    "tags": []
   },
   "source": [
    "> *Those Term are listed in months, i will be dividing by 12 so that it will be readable.*"
   ]
  },
  {
   "cell_type": "code",
   "execution_count": 29,
   "id": "d34120be",
   "metadata": {
    "execution": {
     "iopub.execute_input": "2023-05-15T05:46:30.276244Z",
     "iopub.status.busy": "2023-05-15T05:46:30.275768Z",
     "iopub.status.idle": "2023-05-15T05:46:30.281956Z",
     "shell.execute_reply": "2023-05-15T05:46:30.280663Z"
    },
    "papermill": {
     "duration": 0.045031,
     "end_time": "2023-05-15T05:46:30.284505",
     "exception": false,
     "start_time": "2023-05-15T05:46:30.239474",
     "status": "completed"
    },
    "tags": []
   },
   "outputs": [],
   "source": [
    "train_df['Loan_Amount_Term'] = train_df['Loan_Amount_Term']/12\n"
   ]
  },
  {
   "cell_type": "code",
   "execution_count": 30,
   "id": "0215c4ff",
   "metadata": {
    "execution": {
     "iopub.execute_input": "2023-05-15T05:46:30.356391Z",
     "iopub.status.busy": "2023-05-15T05:46:30.355578Z",
     "iopub.status.idle": "2023-05-15T05:46:30.368375Z",
     "shell.execute_reply": "2023-05-15T05:46:30.367129Z"
    },
    "papermill": {
     "duration": 0.051084,
     "end_time": "2023-05-15T05:46:30.370879",
     "exception": false,
     "start_time": "2023-05-15T05:46:30.319795",
     "status": "completed"
    },
    "tags": []
   },
   "outputs": [
    {
     "data": {
      "text/plain": [
       "Loan_Amount_Term\n",
       "30.0    1012\n",
       "15.0      87\n",
       "40.0      29\n",
       "25.0      25\n",
       "7.0        8\n",
       "20.0       7\n",
       "10.0       6\n",
       "5.0        4\n",
       "3.0        4\n",
       "1.0        2\n",
       "Name: count, dtype: int64"
      ]
     },
     "execution_count": 30,
     "metadata": {},
     "output_type": "execute_result"
    }
   ],
   "source": [
    "train_df['Loan_Amount_Term'].value_counts()"
   ]
  },
  {
   "cell_type": "code",
   "execution_count": 31,
   "id": "2c2c181a",
   "metadata": {
    "execution": {
     "iopub.execute_input": "2023-05-15T05:46:30.442325Z",
     "iopub.status.busy": "2023-05-15T05:46:30.441878Z",
     "iopub.status.idle": "2023-05-15T05:46:30.452372Z",
     "shell.execute_reply": "2023-05-15T05:46:30.451458Z"
    },
    "papermill": {
     "duration": 0.048717,
     "end_time": "2023-05-15T05:46:30.454645",
     "exception": false,
     "start_time": "2023-05-15T05:46:30.405928",
     "status": "completed"
    },
    "tags": []
   },
   "outputs": [
    {
     "data": {
      "text/plain": [
       "Loan_Amount_Term\n",
       "30.0    0.854730\n",
       "15.0    0.073480\n",
       "40.0    0.024493\n",
       "25.0    0.021115\n",
       "7.0     0.006757\n",
       "20.0    0.005912\n",
       "10.0    0.005068\n",
       "5.0     0.003378\n",
       "3.0     0.003378\n",
       "1.0     0.001689\n",
       "Name: proportion, dtype: float64"
      ]
     },
     "execution_count": 31,
     "metadata": {},
     "output_type": "execute_result"
    }
   ],
   "source": [
    "train_df['Loan_Amount_Term'].value_counts(normalize=True)"
   ]
  },
  {
   "cell_type": "code",
   "execution_count": 32,
   "id": "33ac5248",
   "metadata": {
    "execution": {
     "iopub.execute_input": "2023-05-15T05:46:30.525915Z",
     "iopub.status.busy": "2023-05-15T05:46:30.525461Z",
     "iopub.status.idle": "2023-05-15T05:46:30.541253Z",
     "shell.execute_reply": "2023-05-15T05:46:30.540054Z"
    },
    "papermill": {
     "duration": 0.05514,
     "end_time": "2023-05-15T05:46:30.544335",
     "exception": false,
     "start_time": "2023-05-15T05:46:30.489195",
     "status": "completed"
    },
    "tags": []
   },
   "outputs": [
    {
     "data": {
      "text/plain": [
       "Loan_Amount_Term  Loan_Status\n",
       "1.0               Y              1.000000\n",
       "3.0               N              1.000000\n",
       "5.0               Y              1.000000\n",
       "7.0               Y              0.750000\n",
       "                  N              0.250000\n",
       "10.0              Y              1.000000\n",
       "15.0              Y              0.655172\n",
       "                  N              0.344828\n",
       "20.0              Y              0.714286\n",
       "                  N              0.285714\n",
       "25.0              Y              0.600000\n",
       "                  N              0.400000\n",
       "30.0              Y              0.702569\n",
       "                  N              0.297431\n",
       "40.0              N              0.620690\n",
       "                  Y              0.379310\n",
       "Name: proportion, dtype: float64"
      ]
     },
     "execution_count": 32,
     "metadata": {},
     "output_type": "execute_result"
    }
   ],
   "source": [
    "train_df.groupby('Loan_Amount_Term')['Loan_Status'].value_counts(normalize=True)"
   ]
  },
  {
   "cell_type": "code",
   "execution_count": 33,
   "id": "2c466556",
   "metadata": {
    "execution": {
     "iopub.execute_input": "2023-05-15T05:46:30.616796Z",
     "iopub.status.busy": "2023-05-15T05:46:30.616357Z",
     "iopub.status.idle": "2023-05-15T05:46:30.639742Z",
     "shell.execute_reply": "2023-05-15T05:46:30.638544Z"
    },
    "papermill": {
     "duration": 0.062513,
     "end_time": "2023-05-15T05:46:30.642468",
     "exception": false,
     "start_time": "2023-05-15T05:46:30.579955",
     "status": "completed"
    },
    "tags": []
   },
   "outputs": [
    {
     "data": {
      "text/html": [
       "<div>\n",
       "<style scoped>\n",
       "    .dataframe tbody tr th:only-of-type {\n",
       "        vertical-align: middle;\n",
       "    }\n",
       "\n",
       "    .dataframe tbody tr th {\n",
       "        vertical-align: top;\n",
       "    }\n",
       "\n",
       "    .dataframe thead th {\n",
       "        text-align: right;\n",
       "    }\n",
       "</style>\n",
       "<table border=\"1\" class=\"dataframe\">\n",
       "  <thead>\n",
       "    <tr style=\"text-align: right;\">\n",
       "      <th></th>\n",
       "      <th>Loan_ID</th>\n",
       "      <th>Gender</th>\n",
       "      <th>Married</th>\n",
       "      <th>Dependents</th>\n",
       "      <th>Education</th>\n",
       "      <th>Self_Employed</th>\n",
       "      <th>ApplicantIncome</th>\n",
       "      <th>CoapplicantIncome</th>\n",
       "      <th>LoanAmount</th>\n",
       "      <th>Loan_Amount_Term</th>\n",
       "      <th>Credit_History</th>\n",
       "      <th>Property_Area</th>\n",
       "      <th>Loan_Status</th>\n",
       "    </tr>\n",
       "  </thead>\n",
       "  <tbody>\n",
       "    <tr>\n",
       "      <th>0</th>\n",
       "      <td>LP001002</td>\n",
       "      <td>Male</td>\n",
       "      <td>No</td>\n",
       "      <td>0</td>\n",
       "      <td>Graduate</td>\n",
       "      <td>No</td>\n",
       "      <td>5849</td>\n",
       "      <td>0.0</td>\n",
       "      <td>NaN</td>\n",
       "      <td>30.0</td>\n",
       "      <td>1.0</td>\n",
       "      <td>Urban</td>\n",
       "      <td>Y</td>\n",
       "    </tr>\n",
       "    <tr>\n",
       "      <th>1</th>\n",
       "      <td>LP001003</td>\n",
       "      <td>Male</td>\n",
       "      <td>Yes</td>\n",
       "      <td>1</td>\n",
       "      <td>Graduate</td>\n",
       "      <td>No</td>\n",
       "      <td>4583</td>\n",
       "      <td>1508.0</td>\n",
       "      <td>128.0</td>\n",
       "      <td>30.0</td>\n",
       "      <td>1.0</td>\n",
       "      <td>Rural</td>\n",
       "      <td>N</td>\n",
       "    </tr>\n",
       "    <tr>\n",
       "      <th>2</th>\n",
       "      <td>LP001005</td>\n",
       "      <td>Male</td>\n",
       "      <td>Yes</td>\n",
       "      <td>0</td>\n",
       "      <td>Graduate</td>\n",
       "      <td>Yes</td>\n",
       "      <td>3000</td>\n",
       "      <td>0.0</td>\n",
       "      <td>66.0</td>\n",
       "      <td>30.0</td>\n",
       "      <td>1.0</td>\n",
       "      <td>Urban</td>\n",
       "      <td>Y</td>\n",
       "    </tr>\n",
       "    <tr>\n",
       "      <th>3</th>\n",
       "      <td>LP001006</td>\n",
       "      <td>Male</td>\n",
       "      <td>Yes</td>\n",
       "      <td>0</td>\n",
       "      <td>Not Graduate</td>\n",
       "      <td>No</td>\n",
       "      <td>2583</td>\n",
       "      <td>2358.0</td>\n",
       "      <td>120.0</td>\n",
       "      <td>30.0</td>\n",
       "      <td>1.0</td>\n",
       "      <td>Urban</td>\n",
       "      <td>Y</td>\n",
       "    </tr>\n",
       "    <tr>\n",
       "      <th>4</th>\n",
       "      <td>LP001008</td>\n",
       "      <td>Male</td>\n",
       "      <td>No</td>\n",
       "      <td>0</td>\n",
       "      <td>Graduate</td>\n",
       "      <td>No</td>\n",
       "      <td>6000</td>\n",
       "      <td>0.0</td>\n",
       "      <td>141.0</td>\n",
       "      <td>30.0</td>\n",
       "      <td>1.0</td>\n",
       "      <td>Urban</td>\n",
       "      <td>Y</td>\n",
       "    </tr>\n",
       "  </tbody>\n",
       "</table>\n",
       "</div>"
      ],
      "text/plain": [
       "    Loan_ID Gender Married Dependents     Education Self_Employed  \\\n",
       "0  LP001002   Male      No          0      Graduate            No   \n",
       "1  LP001003   Male     Yes          1      Graduate            No   \n",
       "2  LP001005   Male     Yes          0      Graduate           Yes   \n",
       "3  LP001006   Male     Yes          0  Not Graduate            No   \n",
       "4  LP001008   Male      No          0      Graduate            No   \n",
       "\n",
       "   ApplicantIncome  CoapplicantIncome  LoanAmount  Loan_Amount_Term  \\\n",
       "0             5849                0.0         NaN              30.0   \n",
       "1             4583             1508.0       128.0              30.0   \n",
       "2             3000                0.0        66.0              30.0   \n",
       "3             2583             2358.0       120.0              30.0   \n",
       "4             6000                0.0       141.0              30.0   \n",
       "\n",
       "   Credit_History Property_Area Loan_Status  \n",
       "0             1.0         Urban           Y  \n",
       "1             1.0         Rural           N  \n",
       "2             1.0         Urban           Y  \n",
       "3             1.0         Urban           Y  \n",
       "4             1.0         Urban           Y  "
      ]
     },
     "execution_count": 33,
     "metadata": {},
     "output_type": "execute_result"
    }
   ],
   "source": [
    "train_df.head()"
   ]
  },
  {
   "cell_type": "code",
   "execution_count": 34,
   "id": "de849f9c",
   "metadata": {
    "execution": {
     "iopub.execute_input": "2023-05-15T05:46:30.716009Z",
     "iopub.status.busy": "2023-05-15T05:46:30.715047Z",
     "iopub.status.idle": "2023-05-15T05:46:30.724770Z",
     "shell.execute_reply": "2023-05-15T05:46:30.723910Z"
    },
    "papermill": {
     "duration": 0.049323,
     "end_time": "2023-05-15T05:46:30.727361",
     "exception": false,
     "start_time": "2023-05-15T05:46:30.678038",
     "status": "completed"
    },
    "tags": []
   },
   "outputs": [
    {
     "data": {
      "text/plain": [
       "Credit_History\n",
       "1.0    0.842767\n",
       "0.0    0.157233\n",
       "Name: proportion, dtype: float64"
      ]
     },
     "execution_count": 34,
     "metadata": {},
     "output_type": "execute_result"
    }
   ],
   "source": [
    "train_df['Credit_History'].value_counts(normalize=True)"
   ]
  },
  {
   "cell_type": "code",
   "execution_count": 35,
   "id": "33a69724",
   "metadata": {
    "execution": {
     "iopub.execute_input": "2023-05-15T05:46:30.801094Z",
     "iopub.status.busy": "2023-05-15T05:46:30.800609Z",
     "iopub.status.idle": "2023-05-15T05:46:30.813366Z",
     "shell.execute_reply": "2023-05-15T05:46:30.812113Z"
    },
    "papermill": {
     "duration": 0.052435,
     "end_time": "2023-05-15T05:46:30.815822",
     "exception": false,
     "start_time": "2023-05-15T05:46:30.763387",
     "status": "completed"
    },
    "tags": []
   },
   "outputs": [
    {
     "data": {
      "text/plain": [
       "Credit_History  Loan_Status\n",
       "0.0             N              0.920000\n",
       "                Y              0.080000\n",
       "1.0             Y              0.795309\n",
       "                N              0.204691\n",
       "Name: proportion, dtype: float64"
      ]
     },
     "execution_count": 35,
     "metadata": {},
     "output_type": "execute_result"
    }
   ],
   "source": [
    "train_df.groupby('Credit_History')['Loan_Status'].value_counts(normalize=True)"
   ]
  },
  {
   "cell_type": "markdown",
   "id": "698640c5",
   "metadata": {
    "papermill": {
     "duration": 0.035985,
     "end_time": "2023-05-15T05:46:30.887287",
     "exception": false,
     "start_time": "2023-05-15T05:46:30.851302",
     "status": "completed"
    },
    "tags": []
   },
   "source": [
    "> *People who has good credit and has met guidelance has ~80% of receiving a loan.While if one has'nt paid to guidelines, one has only ~8% of getting a Loan.So credit history really plays an important role.*"
   ]
  },
  {
   "cell_type": "code",
   "execution_count": 36,
   "id": "3a8b479f",
   "metadata": {
    "execution": {
     "iopub.execute_input": "2023-05-15T05:46:30.960752Z",
     "iopub.status.busy": "2023-05-15T05:46:30.960316Z",
     "iopub.status.idle": "2023-05-15T05:46:30.970714Z",
     "shell.execute_reply": "2023-05-15T05:46:30.969770Z"
    },
    "papermill": {
     "duration": 0.049929,
     "end_time": "2023-05-15T05:46:30.973286",
     "exception": false,
     "start_time": "2023-05-15T05:46:30.923357",
     "status": "completed"
    },
    "tags": []
   },
   "outputs": [
    {
     "data": {
      "text/plain": [
       "Property_Area\n",
       "Semiurban    0.377888\n",
       "Urban        0.330033\n",
       "Rural        0.292079\n",
       "Name: proportion, dtype: float64"
      ]
     },
     "execution_count": 36,
     "metadata": {},
     "output_type": "execute_result"
    }
   ],
   "source": [
    "train_df['Property_Area'].value_counts(normalize=True)"
   ]
  },
  {
   "cell_type": "code",
   "execution_count": 37,
   "id": "e7d8dced",
   "metadata": {
    "execution": {
     "iopub.execute_input": "2023-05-15T05:46:31.047388Z",
     "iopub.status.busy": "2023-05-15T05:46:31.046945Z",
     "iopub.status.idle": "2023-05-15T05:46:31.059859Z",
     "shell.execute_reply": "2023-05-15T05:46:31.058989Z"
    },
    "papermill": {
     "duration": 0.05227,
     "end_time": "2023-05-15T05:46:31.062275",
     "exception": false,
     "start_time": "2023-05-15T05:46:31.010005",
     "status": "completed"
    },
    "tags": []
   },
   "outputs": [
    {
     "data": {
      "text/plain": [
       "Property_Area  Loan_Status\n",
       "Rural          Y              0.615819\n",
       "               N              0.384181\n",
       "Semiurban      Y              0.768559\n",
       "               N              0.231441\n",
       "Urban          Y              0.657500\n",
       "               N              0.342500\n",
       "Name: proportion, dtype: float64"
      ]
     },
     "execution_count": 37,
     "metadata": {},
     "output_type": "execute_result"
    }
   ],
   "source": [
    "train_df.groupby('Property_Area')['Loan_Status'].value_counts(normalize=True)"
   ]
  },
  {
   "cell_type": "markdown",
   "id": "e4bfc960",
   "metadata": {
    "papermill": {
     "duration": 0.03548,
     "end_time": "2023-05-15T05:46:31.133554",
     "exception": false,
     "start_time": "2023-05-15T05:46:31.098074",
     "status": "completed"
    },
    "tags": []
   },
   "source": [
    "> *According to RBI website: Based on the size of the population, a centre, where bank branch is located, is classified either into rural, semi-urban, urban, or metropolitan as under: Rural: population less than 10,000. Semi-Urban: 10,000 and above and less than 1 lakh. Urban: 1 lakh and above and less than 10 lakh.*"
   ]
  },
  {
   "cell_type": "markdown",
   "id": "9faed001",
   "metadata": {
    "papermill": {
     "duration": 0.035897,
     "end_time": "2023-05-15T05:46:31.205083",
     "exception": false,
     "start_time": "2023-05-15T05:46:31.169186",
     "status": "completed"
    },
    "tags": []
   },
   "source": [
    "> *Though Urban and SemiUrban has better loan acceptance rating, this could be due to the fact that Bank are more likely to give Loan and the dataset has more instances from Urban and SemiUrban.*"
   ]
  },
  {
   "cell_type": "code",
   "execution_count": 38,
   "id": "1e5b99b9",
   "metadata": {
    "execution": {
     "iopub.execute_input": "2023-05-15T05:46:31.280494Z",
     "iopub.status.busy": "2023-05-15T05:46:31.280081Z",
     "iopub.status.idle": "2023-05-15T05:46:32.421477Z",
     "shell.execute_reply": "2023-05-15T05:46:32.419918Z"
    },
    "papermill": {
     "duration": 1.182146,
     "end_time": "2023-05-15T05:46:32.424501",
     "exception": false,
     "start_time": "2023-05-15T05:46:31.242355",
     "status": "completed"
    },
    "tags": []
   },
   "outputs": [
    {
     "data": {
      "text/plain": [
       "<seaborn.axisgrid.FacetGrid at 0x18d5be337d0>"
      ]
     },
     "execution_count": 38,
     "metadata": {},
     "output_type": "execute_result"
    },
    {
     "data": {
      "image/png": "[encoded data removed]",
      "text/plain": [
       "<Figure size 1000x500 with 2 Axes>"
      ]
     },
     "metadata": {},
     "output_type": "display_data"
    }
   ],
   "source": [
    "sns.displot(x='ApplicantIncome', data=train_df, col='Loan_Status')"
   ]
  },
  {
   "cell_type": "code",
   "execution_count": 39,
   "id": "bdd46e4e",
   "metadata": {
    "execution": {
     "iopub.execute_input": "2023-05-15T05:46:32.501269Z",
     "iopub.status.busy": "2023-05-15T05:46:32.499973Z",
     "iopub.status.idle": "2023-05-15T05:46:32.522284Z",
     "shell.execute_reply": "2023-05-15T05:46:32.521144Z"
    },
    "papermill": {
     "duration": 0.062753,
     "end_time": "2023-05-15T05:46:32.524702",
     "exception": false,
     "start_time": "2023-05-15T05:46:32.461949",
     "status": "completed"
    },
    "tags": []
   },
   "outputs": [
    {
     "data": {
      "text/html": [
       "<div>\n",
       "<style scoped>\n",
       "    .dataframe tbody tr th:only-of-type {\n",
       "        vertical-align: middle;\n",
       "    }\n",
       "\n",
       "    .dataframe tbody tr th {\n",
       "        vertical-align: top;\n",
       "    }\n",
       "\n",
       "    .dataframe thead th {\n",
       "        text-align: right;\n",
       "    }\n",
       "</style>\n",
       "<table border=\"1\" class=\"dataframe\">\n",
       "  <thead>\n",
       "    <tr style=\"text-align: right;\">\n",
       "      <th></th>\n",
       "      <th>Loan_ID</th>\n",
       "      <th>Gender</th>\n",
       "      <th>Married</th>\n",
       "      <th>Dependents</th>\n",
       "      <th>Education</th>\n",
       "      <th>Self_Employed</th>\n",
       "      <th>ApplicantIncome</th>\n",
       "      <th>CoapplicantIncome</th>\n",
       "      <th>LoanAmount</th>\n",
       "      <th>Loan_Amount_Term</th>\n",
       "      <th>Credit_History</th>\n",
       "      <th>Property_Area</th>\n",
       "      <th>Loan_Status</th>\n",
       "    </tr>\n",
       "  </thead>\n",
       "  <tbody>\n",
       "    <tr>\n",
       "      <th>0</th>\n",
       "      <td>LP001002</td>\n",
       "      <td>Male</td>\n",
       "      <td>No</td>\n",
       "      <td>0</td>\n",
       "      <td>Graduate</td>\n",
       "      <td>No</td>\n",
       "      <td>5849</td>\n",
       "      <td>0.0</td>\n",
       "      <td>NaN</td>\n",
       "      <td>30.0</td>\n",
       "      <td>1.0</td>\n",
       "      <td>Urban</td>\n",
       "      <td>Y</td>\n",
       "    </tr>\n",
       "    <tr>\n",
       "      <th>1</th>\n",
       "      <td>LP001003</td>\n",
       "      <td>Male</td>\n",
       "      <td>Yes</td>\n",
       "      <td>1</td>\n",
       "      <td>Graduate</td>\n",
       "      <td>No</td>\n",
       "      <td>4583</td>\n",
       "      <td>1508.0</td>\n",
       "      <td>128.0</td>\n",
       "      <td>30.0</td>\n",
       "      <td>1.0</td>\n",
       "      <td>Rural</td>\n",
       "      <td>N</td>\n",
       "    </tr>\n",
       "    <tr>\n",
       "      <th>2</th>\n",
       "      <td>LP001005</td>\n",
       "      <td>Male</td>\n",
       "      <td>Yes</td>\n",
       "      <td>0</td>\n",
       "      <td>Graduate</td>\n",
       "      <td>Yes</td>\n",
       "      <td>3000</td>\n",
       "      <td>0.0</td>\n",
       "      <td>66.0</td>\n",
       "      <td>30.0</td>\n",
       "      <td>1.0</td>\n",
       "      <td>Urban</td>\n",
       "      <td>Y</td>\n",
       "    </tr>\n",
       "    <tr>\n",
       "      <th>3</th>\n",
       "      <td>LP001006</td>\n",
       "      <td>Male</td>\n",
       "      <td>Yes</td>\n",
       "      <td>0</td>\n",
       "      <td>Not Graduate</td>\n",
       "      <td>No</td>\n",
       "      <td>2583</td>\n",
       "      <td>2358.0</td>\n",
       "      <td>120.0</td>\n",
       "      <td>30.0</td>\n",
       "      <td>1.0</td>\n",
       "      <td>Urban</td>\n",
       "      <td>Y</td>\n",
       "    </tr>\n",
       "    <tr>\n",
       "      <th>4</th>\n",
       "      <td>LP001008</td>\n",
       "      <td>Male</td>\n",
       "      <td>No</td>\n",
       "      <td>0</td>\n",
       "      <td>Graduate</td>\n",
       "      <td>No</td>\n",
       "      <td>6000</td>\n",
       "      <td>0.0</td>\n",
       "      <td>141.0</td>\n",
       "      <td>30.0</td>\n",
       "      <td>1.0</td>\n",
       "      <td>Urban</td>\n",
       "      <td>Y</td>\n",
       "    </tr>\n",
       "  </tbody>\n",
       "</table>\n",
       "</div>"
      ],
      "text/plain": [
       "    Loan_ID Gender Married Dependents     Education Self_Employed  \\\n",
       "0  LP001002   Male      No          0      Graduate            No   \n",
       "1  LP001003   Male     Yes          1      Graduate            No   \n",
       "2  LP001005   Male     Yes          0      Graduate           Yes   \n",
       "3  LP001006   Male     Yes          0  Not Graduate            No   \n",
       "4  LP001008   Male      No          0      Graduate            No   \n",
       "\n",
       "   ApplicantIncome  CoapplicantIncome  LoanAmount  Loan_Amount_Term  \\\n",
       "0             5849                0.0         NaN              30.0   \n",
       "1             4583             1508.0       128.0              30.0   \n",
       "2             3000                0.0        66.0              30.0   \n",
       "3             2583             2358.0       120.0              30.0   \n",
       "4             6000                0.0       141.0              30.0   \n",
       "\n",
       "   Credit_History Property_Area Loan_Status  \n",
       "0             1.0         Urban           Y  \n",
       "1             1.0         Rural           N  \n",
       "2             1.0         Urban           Y  \n",
       "3             1.0         Urban           Y  \n",
       "4             1.0         Urban           Y  "
      ]
     },
     "execution_count": 39,
     "metadata": {},
     "output_type": "execute_result"
    }
   ],
   "source": [
    "train_df.head()"
   ]
  },
  {
   "cell_type": "code",
   "execution_count": 40,
   "id": "c7d95aa0",
   "metadata": {
    "execution": {
     "iopub.execute_input": "2023-05-15T05:46:32.600695Z",
     "iopub.status.busy": "2023-05-15T05:46:32.600250Z",
     "iopub.status.idle": "2023-05-15T05:46:32.611424Z",
     "shell.execute_reply": "2023-05-15T05:46:32.609923Z"
    },
    "papermill": {
     "duration": 0.051806,
     "end_time": "2023-05-15T05:46:32.614045",
     "exception": false,
     "start_time": "2023-05-15T05:46:32.562239",
     "status": "completed"
    },
    "tags": []
   },
   "outputs": [
    {
     "data": {
      "text/plain": [
       "Dependents\n",
       "0     0.576371\n",
       "1     0.171308\n",
       "2     0.168776\n",
       "3+    0.043038\n",
       "3     0.040506\n",
       "Name: proportion, dtype: float64"
      ]
     },
     "execution_count": 40,
     "metadata": {},
     "output_type": "execute_result"
    }
   ],
   "source": [
    "train_df['Dependents'].value_counts(normalize=True)"
   ]
  },
  {
   "cell_type": "code",
   "execution_count": 41,
   "id": "f0fce8bf",
   "metadata": {
    "execution": {
     "iopub.execute_input": "2023-05-15T05:46:32.690462Z",
     "iopub.status.busy": "2023-05-15T05:46:32.690051Z",
     "iopub.status.idle": "2023-05-15T05:46:32.702485Z",
     "shell.execute_reply": "2023-05-15T05:46:32.701405Z"
    },
    "papermill": {
     "duration": 0.05394,
     "end_time": "2023-05-15T05:46:32.704945",
     "exception": false,
     "start_time": "2023-05-15T05:46:32.651005",
     "status": "completed"
    },
    "tags": []
   },
   "outputs": [
    {
     "data": {
      "text/plain": [
       "Dependents  Loan_Status\n",
       "0           Y              0.691069\n",
       "            N              0.308931\n",
       "1           Y              0.645320\n",
       "            N              0.354680\n",
       "2           Y              0.760000\n",
       "            N              0.240000\n",
       "3           Y              0.625000\n",
       "            N              0.375000\n",
       "3+          Y              0.647059\n",
       "            N              0.352941\n",
       "Name: proportion, dtype: float64"
      ]
     },
     "execution_count": 41,
     "metadata": {},
     "output_type": "execute_result"
    }
   ],
   "source": [
    "train_df.groupby('Dependents')['Loan_Status'].value_counts(normalize=True)"
   ]
  },
  {
   "cell_type": "markdown",
   "id": "b86b101e",
   "metadata": {
    "papermill": {
     "duration": 0.036393,
     "end_time": "2023-05-15T05:46:32.778352",
     "exception": false,
     "start_time": "2023-05-15T05:46:32.741959",
     "status": "completed"
    },
    "tags": []
   },
   "source": [
    "> *No clearly indication that 'Dependents' effects Loan Status.*"
   ]
  },
  {
   "cell_type": "code",
   "execution_count": 11,
   "id": "6e525c2b",
   "metadata": {
    "execution": {
     "iopub.execute_input": "2023-05-15T05:46:32.950772Z",
     "iopub.status.busy": "2023-05-15T05:46:32.950333Z",
     "iopub.status.idle": "2023-05-15T05:46:33.268407Z",
     "shell.execute_reply": "2023-05-15T05:46:33.267032Z"
    },
    "papermill": {
     "duration": 0.359281,
     "end_time": "2023-05-15T05:46:33.271167",
     "exception": false,
     "start_time": "2023-05-15T05:46:32.911886",
     "status": "completed"
    },
    "tags": []
   },
   "outputs": [
    {
     "data": {
      "text/plain": [
       "<Axes: xlabel='ApplicantIncome', ylabel='LoanAmount'>"
      ]
     },
     "execution_count": 11,
     "metadata": {},
     "output_type": "execute_result"
    },
    {
     "data": {
      "image/png": "[encoded data removed]",
      "text/plain": [
       "<Figure size 640x480 with 1 Axes>"
      ]
     },
     "metadata": {},
     "output_type": "display_data"
    }
   ],
   "source": [
    "sns.scatterplot(x='ApplicantIncome', y='LoanAmount', data=train_df)"
   ]
  },
  {
   "cell_type": "code",
   "execution_count": null,
   "id": "020738f1",
   "metadata": {
    "execution": {
     "iopub.execute_input": "2023-05-15T05:46:33.349148Z",
     "iopub.status.busy": "2023-05-15T05:46:33.348706Z",
     "iopub.status.idle": "2023-05-15T05:46:33.355946Z",
     "shell.execute_reply": "2023-05-15T05:46:33.354792Z"
    },
    "papermill": {
     "duration": 0.049353,
     "end_time": "2023-05-15T05:46:33.358706",
     "exception": false,
     "start_time": "2023-05-15T05:46:33.309353",
     "status": "completed"
    },
    "tags": []
   },
   "outputs": [
    {
     "data": {
      "text/plain": [
       "(1212, 13)"
      ]
     },
     "execution_count": 113,
     "metadata": {},
     "output_type": "execute_result"
    }
   ],
   "source": [
    "train_df.shape"
   ]
  },
  {
   "cell_type": "markdown",
   "id": "05ed9fe5",
   "metadata": {},
   "source": [
    "## Imputing the missing values (KNN Imputer)"
   ]
  },
  {
   "cell_type": "code",
   "execution_count": 5,
   "id": "5cdd0998",
   "metadata": {},
   "outputs": [
    {
     "data": {
      "text/plain": [
       "Loan_ID               0\n",
       "Gender               13\n",
       "Married               3\n",
       "Dependents           27\n",
       "Education             0\n",
       "Self_Employed        32\n",
       "ApplicantIncome       0\n",
       "CoapplicantIncome     0\n",
       "LoanAmount           43\n",
       "Loan_Amount_Term     28\n",
       "Credit_History       99\n",
       "Property_Area         0\n",
       "Loan_Status           0\n",
       "dtype: int64"
      ]
     },
     "execution_count": 5,
     "metadata": {},
     "output_type": "execute_result"
    }
   ],
   "source": [
    "train_df.isnull().sum()"
   ]
  },
  {
   "cell_type": "markdown",
   "id": "011ac2d1",
   "metadata": {},
   "source": [
    "### Imputing the null values in Credit_History,LoanAmount,Self_Employed column using the KKN Imputer"
   ]
  },
  {
   "cell_type": "code",
   "execution_count": 6,
   "id": "e16a7630",
   "metadata": {},
   "outputs": [],
   "source": [
    "# Imputing the KNN Imputer\n",
    "from sklearn.impute import KNNImputer"
   ]
  },
  {
   "cell_type": "code",
   "execution_count": 13,
   "id": "e7ad0c59",
   "metadata": {},
   "outputs": [],
   "source": [
    "imputer=KNNImputer(n_neighbors=15)\n"
   ]
  },
  {
   "cell_type": "code",
   "execution_count": null,
   "id": "9a4c0f87",
   "metadata": {
    "execution": {
     "iopub.execute_input": "2023-05-15T05:46:33.437006Z",
     "iopub.status.busy": "2023-05-15T05:46:33.436570Z",
     "iopub.status.idle": "2023-05-15T05:46:33.674581Z",
     "shell.execute_reply": "2023-05-15T05:46:33.673430Z"
    },
    "papermill": {
     "duration": 0.279664,
     "end_time": "2023-05-15T05:46:33.677111",
     "exception": false,
     "start_time": "2023-05-15T05:46:33.397447",
     "status": "completed"
    },
    "tags": []
   },
   "outputs": [
    {
     "data": {
      "text/plain": [
       "0\n",
       "0    985\n",
       "1    211\n",
       "2     14\n",
       "3      2\n",
       "Name: count, dtype: int64"
      ]
     },
     "execution_count": 114,
     "metadata": {},
     "output_type": "execute_result"
    },
    {
     "data": {
      "image/png": "[encoded data removed]",
      "text/plain": [
       "<Figure size 640x480 with 1 Axes>"
      ]
     },
     "metadata": {},
     "output_type": "display_data"
    }
   ],
   "source": [
    "#Checking missing values via row\n",
    "train_df=pd.DataFrame(imputer.fit_transform(train_df),columns=[Credit_History,Self_Employed,LoanAmount ,LoanAmount].columns)\n",
    "Row_with_missing_values = pd.DataFrame(train_df.isnull().sum(axis=1))\n",
    "Row_with_missing_values.value_counts().plot(kind='barh')\n",
    "Row_with_missing_values.value_counts()\n"
   ]
  },
  {
   "cell_type": "code",
   "execution_count": null,
   "id": "1664fa6b",
   "metadata": {
    "execution": {
     "iopub.execute_input": "2023-05-15T05:46:33.756618Z",
     "iopub.status.busy": "2023-05-15T05:46:33.756201Z",
     "iopub.status.idle": "2023-05-15T05:46:33.977283Z",
     "shell.execute_reply": "2023-05-15T05:46:33.976090Z"
    },
    "papermill": {
     "duration": 0.263897,
     "end_time": "2023-05-15T05:46:33.979951",
     "exception": false,
     "start_time": "2023-05-15T05:46:33.716054",
     "status": "completed"
    },
    "tags": []
   },
   "outputs": [
    {
     "data": {
      "text/plain": [
       "0\n",
       "0    178\n",
       "1     44\n",
       "2      5\n",
       "3      1\n",
       "Name: count, dtype: int64"
      ]
     },
     "execution_count": 115,
     "metadata": {},
     "output_type": "execute_result"
    },
    {
     "data": {
      "image/png": "[encoded data removed]",
      "text/plain": [
       "<Figure size 640x480 with 1 Axes>"
      ]
     },
     "metadata": {},
     "output_type": "display_data"
    }
   ],
   "source": [
    "\n",
    "Row_with_missing_values = pd.DataFrame(test_df.isnull().sum(axis=1))\n",
    "Row_with_missing_values.value_counts().plot(kind='barh')\n",
    "Row_with_missing_values.value_counts()\n"
   ]
  },
  {
   "cell_type": "code",
   "execution_count": null,
   "id": "b6a430a8",
   "metadata": {
    "execution": {
     "iopub.execute_input": "2023-05-15T05:46:34.062884Z",
     "iopub.status.busy": "2023-05-15T05:46:34.062420Z",
     "iopub.status.idle": "2023-05-15T05:46:34.072922Z",
     "shell.execute_reply": "2023-05-15T05:46:34.071621Z"
    },
    "papermill": {
     "duration": 0.055296,
     "end_time": "2023-05-15T05:46:34.075635",
     "exception": false,
     "start_time": "2023-05-15T05:46:34.020339",
     "status": "completed"
    },
    "tags": []
   },
   "outputs": [],
   "source": [
    "#Function for Checking Null Values of Dataset and showing graph \n",
    "\n",
    "\n",
    "def Null_Analysis(df):    \n",
    "    columns_with_nullValues =  df.columns[df.isnull().any()] \n",
    "    columns_with_nullValues_count=  df[columns_with_nullValues].isnull().sum() \n",
    "    columns_with_nullValues_count_percentage= df[columns_with_nullValues].isnull().sum() * 100 / df.shape[0] \n",
    "\n",
    "\n",
    "\n",
    "    NullValues_Result = pd.concat([columns_with_nullValues_count,columns_with_nullValues_count_percentage], axis=1,join='inner') \n",
    "    NullValues_Result.columns = ['Count', 'Percentage'] \n",
    "    NullValues_Result['Percentage'] = round(NullValues_Result['Percentage'],2) \n",
    "    NullValues_Result\n",
    "    return NullValues_Result\n",
    "    \n",
    "def Null_Analysis_Graph(df):\n",
    "    NullValues_Result= Null_Analysis(df)\n",
    "    NullValues_Result['Percentage'].hist(bins=10)\n",
    "    plt.xlabel('Missing Values Percentages')\n",
    "    plt.ylabel('Frequency')\n",
    "    plt.title('Histogram of Missing Values Percentages')\n",
    "    plt.show()\n"
   ]
  },
  {
   "cell_type": "code",
   "execution_count": null,
   "id": "19f162f9",
   "metadata": {
    "execution": {
     "iopub.execute_input": "2023-05-15T05:46:34.156226Z",
     "iopub.status.busy": "2023-05-15T05:46:34.155717Z",
     "iopub.status.idle": "2023-05-15T05:46:34.176510Z",
     "shell.execute_reply": "2023-05-15T05:46:34.175345Z"
    },
    "papermill": {
     "duration": 0.064682,
     "end_time": "2023-05-15T05:46:34.179185",
     "exception": false,
     "start_time": "2023-05-15T05:46:34.114503",
     "status": "completed"
    },
    "tags": []
   },
   "outputs": [
    {
     "data": {
      "text/html": [
       "<div>\n",
       "<style scoped>\n",
       "    .dataframe tbody tr th:only-of-type {\n",
       "        vertical-align: middle;\n",
       "    }\n",
       "\n",
       "    .dataframe tbody tr th {\n",
       "        vertical-align: top;\n",
       "    }\n",
       "\n",
       "    .dataframe thead th {\n",
       "        text-align: right;\n",
       "    }\n",
       "</style>\n",
       "<table border=\"1\" class=\"dataframe\">\n",
       "  <thead>\n",
       "    <tr style=\"text-align: right;\">\n",
       "      <th></th>\n",
       "      <th>Count</th>\n",
       "      <th>Percentage</th>\n",
       "    </tr>\n",
       "  </thead>\n",
       "  <tbody>\n",
       "    <tr>\n",
       "      <th>Gender</th>\n",
       "      <td>13</td>\n",
       "      <td>1.07</td>\n",
       "    </tr>\n",
       "    <tr>\n",
       "      <th>Married</th>\n",
       "      <td>3</td>\n",
       "      <td>0.25</td>\n",
       "    </tr>\n",
       "    <tr>\n",
       "      <th>Dependents</th>\n",
       "      <td>27</td>\n",
       "      <td>2.23</td>\n",
       "    </tr>\n",
       "    <tr>\n",
       "      <th>Self_Employed</th>\n",
       "      <td>32</td>\n",
       "      <td>2.64</td>\n",
       "    </tr>\n",
       "    <tr>\n",
       "      <th>LoanAmount</th>\n",
       "      <td>43</td>\n",
       "      <td>3.55</td>\n",
       "    </tr>\n",
       "    <tr>\n",
       "      <th>Loan_Amount_Term</th>\n",
       "      <td>28</td>\n",
       "      <td>2.31</td>\n",
       "    </tr>\n",
       "    <tr>\n",
       "      <th>Credit_History</th>\n",
       "      <td>99</td>\n",
       "      <td>8.17</td>\n",
       "    </tr>\n",
       "  </tbody>\n",
       "</table>\n",
       "</div>"
      ],
      "text/plain": [
       "                  Count  Percentage\n",
       "Gender               13        1.07\n",
       "Married               3        0.25\n",
       "Dependents           27        2.23\n",
       "Self_Employed        32        2.64\n",
       "LoanAmount           43        3.55\n",
       "Loan_Amount_Term     28        2.31\n",
       "Credit_History       99        8.17"
      ]
     },
     "execution_count": 117,
     "metadata": {},
     "output_type": "execute_result"
    }
   ],
   "source": [
    "Null_Analysis(train_df)"
   ]
  },
  {
   "cell_type": "markdown",
   "id": "fc1094c9",
   "metadata": {
    "papermill": {
     "duration": 0.038651,
     "end_time": "2023-05-15T05:46:34.256813",
     "exception": false,
     "start_time": "2023-05-15T05:46:34.218162",
     "status": "completed"
    },
    "tags": []
   },
   "source": [
    "> *Note that training dataset has 614 instances and 13 features(including target variable).*"
   ]
  },
  {
   "cell_type": "code",
   "execution_count": null,
   "id": "7c6c9099",
   "metadata": {
    "execution": {
     "iopub.execute_input": "2023-05-15T05:46:34.336162Z",
     "iopub.status.busy": "2023-05-15T05:46:34.335712Z",
     "iopub.status.idle": "2023-05-15T05:46:34.593180Z",
     "shell.execute_reply": "2023-05-15T05:46:34.591918Z"
    },
    "papermill": {
     "duration": 0.300681,
     "end_time": "2023-05-15T05:46:34.596346",
     "exception": false,
     "start_time": "2023-05-15T05:46:34.295665",
     "status": "completed"
    },
    "tags": []
   },
   "outputs": [
    {
     "data": {
      "image/png": "[encoded data removed]",
      "text/plain": [
       "<Figure size 640x480 with 1 Axes>"
      ]
     },
     "metadata": {},
     "output_type": "display_data"
    }
   ],
   "source": [
    "Null_Analysis_Graph(train_df)"
   ]
  },
  {
   "cell_type": "code",
   "execution_count": null,
   "id": "8bf326c1",
   "metadata": {
    "execution": {
     "iopub.execute_input": "2023-05-15T05:46:34.677908Z",
     "iopub.status.busy": "2023-05-15T05:46:34.677466Z",
     "iopub.status.idle": "2023-05-15T05:46:34.698066Z",
     "shell.execute_reply": "2023-05-15T05:46:34.696857Z"
    },
    "papermill": {
     "duration": 0.064441,
     "end_time": "2023-05-15T05:46:34.700547",
     "exception": false,
     "start_time": "2023-05-15T05:46:34.636106",
     "status": "completed"
    },
    "tags": []
   },
   "outputs": [
    {
     "data": {
      "text/html": [
       "<div>\n",
       "<style scoped>\n",
       "    .dataframe tbody tr th:only-of-type {\n",
       "        vertical-align: middle;\n",
       "    }\n",
       "\n",
       "    .dataframe tbody tr th {\n",
       "        vertical-align: top;\n",
       "    }\n",
       "\n",
       "    .dataframe thead th {\n",
       "        text-align: right;\n",
       "    }\n",
       "</style>\n",
       "<table border=\"1\" class=\"dataframe\">\n",
       "  <thead>\n",
       "    <tr style=\"text-align: right;\">\n",
       "      <th></th>\n",
       "      <th>Count</th>\n",
       "      <th>Percentage</th>\n",
       "    </tr>\n",
       "  </thead>\n",
       "  <tbody>\n",
       "    <tr>\n",
       "      <th>Gender</th>\n",
       "      <td>4</td>\n",
       "      <td>1.75</td>\n",
       "    </tr>\n",
       "    <tr>\n",
       "      <th>Married</th>\n",
       "      <td>1</td>\n",
       "      <td>0.44</td>\n",
       "    </tr>\n",
       "    <tr>\n",
       "      <th>Dependents</th>\n",
       "      <td>4</td>\n",
       "      <td>1.75</td>\n",
       "    </tr>\n",
       "    <tr>\n",
       "      <th>Self_Employed</th>\n",
       "      <td>12</td>\n",
       "      <td>5.26</td>\n",
       "    </tr>\n",
       "    <tr>\n",
       "      <th>LoanAmount</th>\n",
       "      <td>10</td>\n",
       "      <td>4.39</td>\n",
       "    </tr>\n",
       "    <tr>\n",
       "      <th>Loan_Amount_Term</th>\n",
       "      <td>9</td>\n",
       "      <td>3.95</td>\n",
       "    </tr>\n",
       "    <tr>\n",
       "      <th>Credit_History</th>\n",
       "      <td>17</td>\n",
       "      <td>7.46</td>\n",
       "    </tr>\n",
       "  </tbody>\n",
       "</table>\n",
       "</div>"
      ],
      "text/plain": [
       "                  Count  Percentage\n",
       "Gender                4        1.75\n",
       "Married               1        0.44\n",
       "Dependents            4        1.75\n",
       "Self_Employed        12        5.26\n",
       "LoanAmount           10        4.39\n",
       "Loan_Amount_Term      9        3.95\n",
       "Credit_History       17        7.46"
      ]
     },
     "execution_count": 119,
     "metadata": {},
     "output_type": "execute_result"
    }
   ],
   "source": [
    "Null_Analysis(test_df)"
   ]
  },
  {
   "cell_type": "markdown",
   "id": "d5af9ab7",
   "metadata": {
    "papermill": {
     "duration": 0.040187,
     "end_time": "2023-05-15T05:46:34.781395",
     "exception": false,
     "start_time": "2023-05-15T05:46:34.741208",
     "status": "completed"
    },
    "tags": []
   },
   "source": [
    ">*Note that testing instance has 367 instances.*"
   ]
  },
  {
   "cell_type": "code",
   "execution_count": null,
   "id": "96d129ec",
   "metadata": {
    "execution": {
     "iopub.execute_input": "2023-05-15T05:46:34.863366Z",
     "iopub.status.busy": "2023-05-15T05:46:34.862946Z",
     "iopub.status.idle": "2023-05-15T05:46:35.127250Z",
     "shell.execute_reply": "2023-05-15T05:46:35.125732Z"
    },
    "papermill": {
     "duration": 0.309185,
     "end_time": "2023-05-15T05:46:35.130159",
     "exception": false,
     "start_time": "2023-05-15T05:46:34.820974",
     "status": "completed"
    },
    "tags": []
   },
   "outputs": [
    {
     "data": {
      "image/png": "[encoded data removed]",
      "text/plain": [
       "<Figure size 640x480 with 1 Axes>"
      ]
     },
     "metadata": {},
     "output_type": "display_data"
    }
   ],
   "source": [
    "Null_Analysis_Graph(test_df)"
   ]
  },
  {
   "cell_type": "code",
   "execution_count": null,
   "id": "f7baf46e",
   "metadata": {
    "execution": {
     "iopub.execute_input": "2023-05-15T05:46:35.218076Z",
     "iopub.status.busy": "2023-05-15T05:46:35.216721Z",
     "iopub.status.idle": "2023-05-15T05:46:35.238228Z",
     "shell.execute_reply": "2023-05-15T05:46:35.236620Z"
    },
    "papermill": {
     "duration": 0.068663,
     "end_time": "2023-05-15T05:46:35.241005",
     "exception": false,
     "start_time": "2023-05-15T05:46:35.172342",
     "status": "completed"
    },
    "tags": []
   },
   "outputs": [
    {
     "data": {
      "text/html": [
       "<div>\n",
       "<style scoped>\n",
       "    .dataframe tbody tr th:only-of-type {\n",
       "        vertical-align: middle;\n",
       "    }\n",
       "\n",
       "    .dataframe tbody tr th {\n",
       "        vertical-align: top;\n",
       "    }\n",
       "\n",
       "    .dataframe thead th {\n",
       "        text-align: right;\n",
       "    }\n",
       "</style>\n",
       "<table border=\"1\" class=\"dataframe\">\n",
       "  <thead>\n",
       "    <tr style=\"text-align: right;\">\n",
       "      <th></th>\n",
       "      <th>Count</th>\n",
       "      <th>Percentage</th>\n",
       "    </tr>\n",
       "  </thead>\n",
       "  <tbody>\n",
       "    <tr>\n",
       "      <th>Gender</th>\n",
       "      <td>13</td>\n",
       "      <td>1.07</td>\n",
       "    </tr>\n",
       "    <tr>\n",
       "      <th>Married</th>\n",
       "      <td>3</td>\n",
       "      <td>0.25</td>\n",
       "    </tr>\n",
       "    <tr>\n",
       "      <th>Dependents</th>\n",
       "      <td>27</td>\n",
       "      <td>2.23</td>\n",
       "    </tr>\n",
       "    <tr>\n",
       "      <th>Self_Employed</th>\n",
       "      <td>32</td>\n",
       "      <td>2.64</td>\n",
       "    </tr>\n",
       "    <tr>\n",
       "      <th>LoanAmount</th>\n",
       "      <td>43</td>\n",
       "      <td>3.55</td>\n",
       "    </tr>\n",
       "    <tr>\n",
       "      <th>Loan_Amount_Term</th>\n",
       "      <td>28</td>\n",
       "      <td>2.31</td>\n",
       "    </tr>\n",
       "    <tr>\n",
       "      <th>Credit_History</th>\n",
       "      <td>99</td>\n",
       "      <td>8.17</td>\n",
       "    </tr>\n",
       "  </tbody>\n",
       "</table>\n",
       "</div>"
      ],
      "text/plain": [
       "                  Count  Percentage\n",
       "Gender               13        1.07\n",
       "Married               3        0.25\n",
       "Dependents           27        2.23\n",
       "Self_Employed        32        2.64\n",
       "LoanAmount           43        3.55\n",
       "Loan_Amount_Term     28        2.31\n",
       "Credit_History       99        8.17"
      ]
     },
     "execution_count": 121,
     "metadata": {},
     "output_type": "execute_result"
    }
   ],
   "source": [
    "Null_Analysis(train_df)"
   ]
  },
  {
   "cell_type": "code",
   "execution_count": null,
   "id": "024877b0",
   "metadata": {
    "execution": {
     "iopub.execute_input": "2023-05-15T05:46:35.324218Z",
     "iopub.status.busy": "2023-05-15T05:46:35.323743Z",
     "iopub.status.idle": "2023-05-15T05:46:35.334035Z",
     "shell.execute_reply": "2023-05-15T05:46:35.332706Z"
    },
    "papermill": {
     "duration": 0.054335,
     "end_time": "2023-05-15T05:46:35.336347",
     "exception": false,
     "start_time": "2023-05-15T05:46:35.282012",
     "status": "completed"
    },
    "tags": []
   },
   "outputs": [
    {
     "data": {
      "text/plain": [
       "Credit_History\n",
       "1.0    938\n",
       "0.0    175\n",
       "Name: count, dtype: int64"
      ]
     },
     "execution_count": 122,
     "metadata": {},
     "output_type": "execute_result"
    }
   ],
   "source": [
    "train_df['Credit_History'].value_counts()"
   ]
  },
  {
   "cell_type": "code",
   "execution_count": null,
   "id": "652a0eda",
   "metadata": {
    "execution": {
     "iopub.execute_input": "2023-05-15T05:46:35.418867Z",
     "iopub.status.busy": "2023-05-15T05:46:35.418405Z",
     "iopub.status.idle": "2023-05-15T05:46:36.325759Z",
     "shell.execute_reply": "2023-05-15T05:46:36.324485Z"
    },
    "papermill": {
     "duration": 0.951763,
     "end_time": "2023-05-15T05:46:36.328478",
     "exception": false,
     "start_time": "2023-05-15T05:46:35.376715",
     "status": "completed"
    },
    "tags": []
   },
   "outputs": [
    {
     "data": {
      "text/plain": [
       "<seaborn.axisgrid.FacetGrid at 0x20ba8a61e50>"
      ]
     },
     "execution_count": 123,
     "metadata": {},
     "output_type": "execute_result"
    },
    {
     "data": {
      "image/png": "[encoded data removed]",
      "text/plain": [
       "<Figure size 1000x500 with 2 Axes>"
      ]
     },
     "metadata": {},
     "output_type": "display_data"
    }
   ],
   "source": [
    "sns.displot(x='LoanAmount', data=train_df, col='Loan_Status')"
   ]
  },
  {
   "cell_type": "code",
   "execution_count": null,
   "id": "4f2930de",
   "metadata": {
    "execution": {
     "iopub.execute_input": "2023-05-15T05:46:36.415603Z",
     "iopub.status.busy": "2023-05-15T05:46:36.413209Z",
     "iopub.status.idle": "2023-05-15T05:46:36.612675Z",
     "shell.execute_reply": "2023-05-15T05:46:36.611655Z"
    },
    "papermill": {
     "duration": 0.245735,
     "end_time": "2023-05-15T05:46:36.615347",
     "exception": false,
     "start_time": "2023-05-15T05:46:36.369612",
     "status": "completed"
    },
    "tags": []
   },
   "outputs": [
    {
     "data": {
      "text/plain": [
       "<Axes: xlabel='LoanAmount'>"
      ]
     },
     "execution_count": 124,
     "metadata": {},
     "output_type": "execute_result"
    },
    {
     "data": {
      "image/png": "[encoded data removed]",
      "text/plain": [
       "<Figure size 640x480 with 1 Axes>"
      ]
     },
     "metadata": {},
     "output_type": "display_data"
    }
   ],
   "source": [
    "sns.boxplot(x='LoanAmount', data=train_df)"
   ]
  },
  {
   "cell_type": "code",
   "execution_count": null,
   "id": "6e02033f",
   "metadata": {
    "execution": {
     "iopub.execute_input": "2023-05-15T05:46:36.701752Z",
     "iopub.status.busy": "2023-05-15T05:46:36.700526Z",
     "iopub.status.idle": "2023-05-15T05:46:36.714529Z",
     "shell.execute_reply": "2023-05-15T05:46:36.713334Z"
    },
    "papermill": {
     "duration": 0.059847,
     "end_time": "2023-05-15T05:46:36.717375",
     "exception": false,
     "start_time": "2023-05-15T05:46:36.657528",
     "status": "completed"
    },
    "tags": []
   },
   "outputs": [
    {
     "data": {
      "text/plain": [
       "count    1169.000000\n",
       "mean      145.699743\n",
       "std        84.143680\n",
       "min         9.000000\n",
       "25%       100.000000\n",
       "50%       127.000000\n",
       "75%       168.000000\n",
       "max       700.000000\n",
       "Name: LoanAmount, dtype: float64"
      ]
     },
     "execution_count": 125,
     "metadata": {},
     "output_type": "execute_result"
    }
   ],
   "source": [
    "train_df['LoanAmount'].describe()"
   ]
  },
  {
   "cell_type": "markdown",
   "id": "5a7ed4ac",
   "metadata": {
    "papermill": {
     "duration": 0.04089,
     "end_time": "2023-05-15T05:46:36.800847",
     "exception": false,
     "start_time": "2023-05-15T05:46:36.759957",
     "status": "completed"
    },
    "tags": []
   },
   "source": [
    "> *Note that this 'LoanAmount' listed are in thousands.*"
   ]
  },
  {
   "cell_type": "markdown",
   "id": "072ad57a",
   "metadata": {
    "papermill": {
     "duration": 0.041367,
     "end_time": "2023-05-15T05:46:36.884720",
     "exception": false,
     "start_time": "2023-05-15T05:46:36.843353",
     "status": "completed"
    },
    "tags": []
   },
   "source": [
    "# > *EDA implications*"
   ]
  },
  {
   "cell_type": "markdown",
   "id": "68c213d6",
   "metadata": {
    "papermill": {
     "duration": 0.041453,
     "end_time": "2023-05-15T05:46:36.968506",
     "exception": false,
     "start_time": "2023-05-15T05:46:36.927053",
     "status": "completed"
    },
    "tags": []
   },
   "source": [
    "> *1.So there were more loan approved than loan rejection.\\\n",
    "2.Statistically, Gender does'nt effect your loan approval chances.\\\n",
    "3.There were more Male than Female asking for Loan.\\\n",
    "4.Here, data is implies that Married people are more likely to get approved for Loan.\\\n",
    "5.This dataset consist of ~81% Male, but for Married couple ~91% of loan taker are Male jumping from ~61% Male in Non Married Category.\\\n",
    "6.Being a graduate, your Loan Approval percentage jumps by ~10%.\\\n",
    "7.Not much differnce approval acceptance whether one is Employed or not.\\\n",
    "8.People who has good credit and has met guidelance has ~80% of receiving a loan.While if one has'nt paid to guidelines, one has only ~8% of getting a Loan.So credit history really plays an important role.\\\n",
    "9.Though Urban and SemiUrban has better loan acceptance rating, this could be due to the fact that Bank are more likely to give Loan and the dataset has more instances from Urban and SemiUrban.\\\n",
    "10.No clearly indication that 'Dependents' effects Loan Status.*"
   ]
  },
  {
   "cell_type": "code",
   "execution_count": null,
   "id": "3261cebf",
   "metadata": {
    "execution": {
     "iopub.execute_input": "2023-05-15T05:46:37.057473Z",
     "iopub.status.busy": "2023-05-15T05:46:37.057036Z",
     "iopub.status.idle": "2023-05-15T05:46:37.076228Z",
     "shell.execute_reply": "2023-05-15T05:46:37.074804Z"
    },
    "papermill": {
     "duration": 0.068889,
     "end_time": "2023-05-15T05:46:37.079166",
     "exception": false,
     "start_time": "2023-05-15T05:46:37.010277",
     "status": "completed"
    },
    "tags": []
   },
   "outputs": [
    {
     "name": "stdout",
     "output_type": "stream",
     "text": [
      "<class 'pandas.core.frame.DataFrame'>\n",
      "RangeIndex: 1212 entries, 0 to 1211\n",
      "Data columns (total 13 columns):\n",
      " #   Column             Non-Null Count  Dtype  \n",
      "---  ------             --------------  -----  \n",
      " 0   Loan_ID            1212 non-null   object \n",
      " 1   Gender             1199 non-null   object \n",
      " 2   Married            1209 non-null   object \n",
      " 3   Dependents         1185 non-null   object \n",
      " 4   Education          1212 non-null   object \n",
      " 5   Self_Employed      1180 non-null   object \n",
      " 6   ApplicantIncome    1212 non-null   int64  \n",
      " 7   CoapplicantIncome  1212 non-null   float64\n",
      " 8   LoanAmount         1169 non-null   float64\n",
      " 9   Loan_Amount_Term   1184 non-null   float64\n",
      " 10  Credit_History     1113 non-null   float64\n",
      " 11  Property_Area      1212 non-null   object \n",
      " 12  Loan_Status        1212 non-null   object \n",
      "dtypes: float64(4), int64(1), object(8)\n",
      "memory usage: 123.2+ KB\n"
     ]
    }
   ],
   "source": [
    "train_df.info()"
   ]
  },
  {
   "cell_type": "code",
   "execution_count": 46,
   "id": "dbe80222",
   "metadata": {
    "execution": {
     "iopub.execute_input": "2023-05-15T05:46:37.291047Z",
     "iopub.status.busy": "2023-05-15T05:46:37.289635Z",
     "iopub.status.idle": "2023-05-15T05:46:37.299919Z",
     "shell.execute_reply": "2023-05-15T05:46:37.298689Z"
    },
    "papermill": {
     "duration": 0.056079,
     "end_time": "2023-05-15T05:46:37.302453",
     "exception": false,
     "start_time": "2023-05-15T05:46:37.246374",
     "status": "completed"
    },
    "tags": []
   },
   "outputs": [
    {
     "data": {
      "text/plain": [
       "57"
      ]
     },
     "execution_count": 46,
     "metadata": {},
     "output_type": "execute_result"
    }
   ],
   "source": [
    "test_df.isnull().sum().sum()"
   ]
  },
  {
   "cell_type": "code",
   "execution_count": null,
   "id": "20611785",
   "metadata": {
    "execution": {
     "iopub.execute_input": "2023-05-15T05:46:37.389015Z",
     "iopub.status.busy": "2023-05-15T05:46:37.387678Z",
     "iopub.status.idle": "2023-05-15T05:46:37.398209Z",
     "shell.execute_reply": "2023-05-15T05:46:37.396915Z"
    },
    "papermill": {
     "duration": 0.056414,
     "end_time": "2023-05-15T05:46:37.401100",
     "exception": false,
     "start_time": "2023-05-15T05:46:37.344686",
     "status": "completed"
    },
    "tags": []
   },
   "outputs": [
    {
     "data": {
      "text/plain": [
       "245"
      ]
     },
     "execution_count": 128,
     "metadata": {},
     "output_type": "execute_result"
    }
   ],
   "source": [
    "train_df.isnull().sum().sum()"
   ]
  },
  {
   "cell_type": "code",
   "execution_count": 43,
   "id": "c3fb09e8",
   "metadata": {
    "execution": {
     "iopub.execute_input": "2023-05-15T05:46:37.490108Z",
     "iopub.status.busy": "2023-05-15T05:46:37.489642Z",
     "iopub.status.idle": "2023-05-15T05:46:37.502531Z",
     "shell.execute_reply": "2023-05-15T05:46:37.500889Z"
    },
    "papermill": {
     "duration": 0.061018,
     "end_time": "2023-05-15T05:46:37.505498",
     "exception": false,
     "start_time": "2023-05-15T05:46:37.444480",
     "status": "completed"
    },
    "tags": []
   },
   "outputs": [
    {
     "name": "stdout",
     "output_type": "stream",
     "text": [
      "No of Integer type columns: 1\n",
      "No of Float type columns: 4\n",
      "No of String type columns: 8\n"
     ]
    }
   ],
   "source": [
    "# store columns with specific data type\n",
    "integer_columns = train_df.select_dtypes(include=['int64']).columns\n",
    "float_columns = train_df.select_dtypes(include=['float64']).columns\n",
    "object_columns = train_df.select_dtypes(include=['object']).columns\n",
    "\n",
    "print(\"No of Integer type columns: {}\".format(len(integer_columns)))\n",
    "print(\"No of Float type columns: {}\".format(len(float_columns)))\n",
    "print(\"No of String type columns: {}\".format(len(object_columns)))"
   ]
  },
  {
   "cell_type": "code",
   "execution_count": null,
   "id": "d93ccca0",
   "metadata": {
    "execution": {
     "iopub.execute_input": "2023-05-15T05:46:37.689927Z",
     "iopub.status.busy": "2023-05-15T05:46:37.689425Z",
     "iopub.status.idle": "2023-05-15T05:46:37.695845Z",
     "shell.execute_reply": "2023-05-15T05:46:37.694547Z"
    },
    "papermill": {
     "duration": 0.052996,
     "end_time": "2023-05-15T05:46:37.698504",
     "exception": false,
     "start_time": "2023-05-15T05:46:37.645508",
     "status": "completed"
    },
    "tags": []
   },
   "outputs": [
    {
     "name": "stdout",
     "output_type": "stream",
     "text": [
      "['Gender', 'Married', 'Dependents', 'Education', 'Self_Employed', 'Property_Area']\n"
     ]
    }
   ],
   "source": [
    "print(object_columns)"
   ]
  },
  {
   "cell_type": "code",
   "execution_count": 64,
   "id": "e256e6f0",
   "metadata": {},
   "outputs": [],
   "source": [
    "Loan_Status=train_df.iloc[:,-1]"
   ]
  },
  {
   "cell_type": "code",
   "execution_count": 94,
   "id": "608877be",
   "metadata": {},
   "outputs": [],
   "source": [
    "df = pd.read_csv('loan approval data.csv')"
   ]
  },
  {
   "cell_type": "markdown",
   "id": "c21303fc",
   "metadata": {},
   "source": [
    "## SMOTE for imbalance correction"
   ]
  },
  {
   "cell_type": "markdown",
   "id": "337715c8",
   "metadata": {},
   "source": [
    "### We use Synthetic Minority Over-sampling Technique (SMOTE) to balance our dataset by generating synthetic samples for the minority class.\n",
    "\n",
    "#After running the below line of code, X and y will be modified to include the synthetic samples generated by SMOTE, resulting in a balanced dataset. This can be particularly useful when you're training a machine learning model and want to avoid bias towards the majority class.\n",
    "\n",
    "### Here's a brief summary of what SMOTE does:\n",
    "\n",
    "#### It identifies the minority class samples that are most at risk of being misclassified.\n",
    "#### For each of these minority samples, it selects one or more of its nearest neighbors.\n",
    "#### It generates synthetic samples along the line segments that connect the minority sample and its selected neighbors.\n",
    "#### The number of synthetic samples generated is determined by the extent to which we want to balance the dataset."
   ]
  },
  {
   "cell_type": "code",
   "execution_count": null,
   "id": "329d1a87",
   "metadata": {},
   "outputs": [],
   "source": [
    "X=train_df.drop('Loan_Status',axis=1)\n",
    "y=train_df['Loan_Status']\n",
    "key=X.keys()\n",
    "X.head()\n",
    "smote=SMOTE()\n",
    "X,y=smote.fit_resample(X,y)"
   ]
  },
  {
   "cell_type": "markdown",
   "id": "2c3cdb45",
   "metadata": {},
   "source": [
    "# Now ,Feature Construction Using KNN"
   ]
  },
  {
   "cell_type": "markdown",
   "id": "615f66ca",
   "metadata": {},
   "source": [
    "### Print the column names to check which columns exist in the DataFrame"
   ]
  },
  {
   "cell_type": "code",
   "execution_count": 92,
   "id": "8249ba6e",
   "metadata": {},
   "outputs": [
    {
     "name": "stdout",
     "output_type": "stream",
     "text": [
      "Columns in the dataset: ['Gender', 'Married', 'Dependents', 'Education', 'Self_Employed', 'ApplicantIncome', 'CoapplicantIncome', 'LoanAmount', 'Loan_Amount_Term', 'Credit_History', 'Property_Area', 'Total_Income', 'Loan_Income_Ratio', 'Risk_Cluster', 'Risk_Probability']\n"
     ]
    }
   ],
   "source": [
    "print(\"Columns in the dataset:\", df.columns.tolist())"
   ]
  },
  {
   "cell_type": "markdown",
   "id": "6ff7913b",
   "metadata": {},
   "source": [
    "### Define columns to drop"
   ]
  },
  {
   "cell_type": "code",
   "execution_count": 95,
   "id": "39cc4899",
   "metadata": {},
   "outputs": [],
   "source": [
    "Loan_Status=df.iloc[:,-1]\n",
    "columns_to_drop = ['Loan_ID','Loan_Status']"
   ]
  },
  {
   "cell_type": "markdown",
   "id": "1c62609f",
   "metadata": {},
   "source": [
    "### Drop only the columns that exist"
   ]
  },
  {
   "cell_type": "code",
   "execution_count": 96,
   "id": "74cf9f6c",
   "metadata": {},
   "outputs": [
    {
     "name": "stdout",
     "output_type": "stream",
     "text": [
      "Dropped columns: ['Loan_ID', 'Loan_Status']\n"
     ]
    }
   ],
   "source": [
    "df.drop(columns_to_drop, axis=1, inplace=True)\n",
    "print(f\"Dropped columns: {columns_to_drop}\")"
   ]
  },
  {
   "cell_type": "markdown",
   "id": "22768186",
   "metadata": {},
   "source": [
    "### Step 1: Data Preprocessing"
   ]
  },
  {
   "cell_type": "markdown",
   "id": "d3fa802a",
   "metadata": {},
   "source": [
    "#### Fill missing values for categorical columns with mode and numerical columns with median"
   ]
  },
  {
   "cell_type": "code",
   "execution_count": 98,
   "id": "a1c238b9",
   "metadata": {},
   "outputs": [],
   "source": [
    "cat_cols = ['Gender', 'Married', 'Dependents', 'Self_Employed', 'Credit_History', 'Property_Area', 'Education']\n",
    "num_cols = ['ApplicantIncome', 'CoapplicantIncome', 'LoanAmount', 'Loan_Amount_Term']\n"
   ]
  },
  {
   "cell_type": "markdown",
   "id": "7da162e3",
   "metadata": {},
   "source": [
    "### Impute missing categorical values with mode"
   ]
  },
  {
   "cell_type": "code",
   "execution_count": 99,
   "id": "a69fd758",
   "metadata": {},
   "outputs": [
    {
     "name": "stderr",
     "output_type": "stream",
     "text": [
      "C:\\Users\\saura\\AppData\\Local\\Temp\\ipykernel_37748\\3910101574.py:3: FutureWarning: A value is trying to be set on a copy of a DataFrame or Series through chained assignment using an inplace method.\n",
      "The behavior will change in pandas 3.0. This inplace method will never work because the intermediate object on which we are setting values always behaves as a copy.\n",
      "\n",
      "For example, when doing 'df[col].method(value, inplace=True)', try using 'df.method({col: value}, inplace=True)' or df[col] = df[col].method(value) instead, to perform the operation inplace on the original object.\n",
      "\n",
      "\n",
      "  df[col].fillna(df[col].mode()[0], inplace=True)\n"
     ]
    }
   ],
   "source": [
    "for col in cat_cols:\n",
    "    if col in df.columns:  # Check if the column exists\n",
    "        df[col].fillna(df[col].mode()[0], inplace=True)"
   ]
  },
  {
   "cell_type": "markdown",
   "id": "9bbb872a",
   "metadata": {},
   "source": [
    "### Impute missing numerical values with median"
   ]
  },
  {
   "cell_type": "code",
   "execution_count": 100,
   "id": "7498612f",
   "metadata": {},
   "outputs": [
    {
     "name": "stderr",
     "output_type": "stream",
     "text": [
      "C:\\Users\\saura\\AppData\\Local\\Temp\\ipykernel_37748\\2401430449.py:3: FutureWarning: A value is trying to be set on a copy of a DataFrame or Series through chained assignment using an inplace method.\n",
      "The behavior will change in pandas 3.0. This inplace method will never work because the intermediate object on which we are setting values always behaves as a copy.\n",
      "\n",
      "For example, when doing 'df[col].method(value, inplace=True)', try using 'df.method({col: value}, inplace=True)' or df[col] = df[col].method(value) instead, to perform the operation inplace on the original object.\n",
      "\n",
      "\n",
      "  df[col].fillna(df[col].median(), inplace=True)\n",
      "C:\\Users\\saura\\AppData\\Local\\Temp\\ipykernel_37748\\2401430449.py:3: FutureWarning: A value is trying to be set on a copy of a DataFrame or Series through chained assignment using an inplace method.\n",
      "The behavior will change in pandas 3.0. This inplace method will never work because the intermediate object on which we are setting values always behaves as a copy.\n",
      "\n",
      "For example, when doing 'df[col].method(value, inplace=True)', try using 'df.method({col: value}, inplace=True)' or df[col] = df[col].method(value) instead, to perform the operation inplace on the original object.\n",
      "\n",
      "\n",
      "  df[col].fillna(df[col].median(), inplace=True)\n",
      "C:\\Users\\saura\\AppData\\Local\\Temp\\ipykernel_37748\\2401430449.py:3: FutureWarning: A value is trying to be set on a copy of a DataFrame or Series through chained assignment using an inplace method.\n",
      "The behavior will change in pandas 3.0. This inplace method will never work because the intermediate object on which we are setting values always behaves as a copy.\n",
      "\n",
      "For example, when doing 'df[col].method(value, inplace=True)', try using 'df.method({col: value}, inplace=True)' or df[col] = df[col].method(value) instead, to perform the operation inplace on the original object.\n",
      "\n",
      "\n",
      "  df[col].fillna(df[col].median(), inplace=True)\n",
      "C:\\Users\\saura\\AppData\\Local\\Temp\\ipykernel_37748\\2401430449.py:3: FutureWarning: A value is trying to be set on a copy of a DataFrame or Series through chained assignment using an inplace method.\n",
      "The behavior will change in pandas 3.0. This inplace method will never work because the intermediate object on which we are setting values always behaves as a copy.\n",
      "\n",
      "For example, when doing 'df[col].method(value, inplace=True)', try using 'df.method({col: value}, inplace=True)' or df[col] = df[col].method(value) instead, to perform the operation inplace on the original object.\n",
      "\n",
      "\n",
      "  df[col].fillna(df[col].median(), inplace=True)\n"
     ]
    }
   ],
   "source": [
    "for col in num_cols:\n",
    "    if col in df.columns:  # Check if the column exists\n",
    "        df[col].fillna(df[col].median(), inplace=True)"
   ]
  },
  {
   "cell_type": "markdown",
   "id": "0c487c95",
   "metadata": {},
   "source": [
    "### Step 2: Feature Engineering"
   ]
  },
  {
   "cell_type": "markdown",
   "id": "b5cec059",
   "metadata": {},
   "source": [
    "### Select features for clustering"
   ]
  },
  {
   "cell_type": "code",
   "execution_count": 101,
   "id": "7ea7e9da",
   "metadata": {},
   "outputs": [],
   "source": [
    "features = df[['ApplicantIncome', 'CoapplicantIncome', 'LoanAmount', 'Loan_Amount_Term', 'Credit_History']]"
   ]
  },
  {
   "cell_type": "markdown",
   "id": "7ced83f8",
   "metadata": {},
   "source": [
    "### Standardize features\n"
   ]
  },
  {
   "cell_type": "code",
   "execution_count": 102,
   "id": "a8dc3b17",
   "metadata": {},
   "outputs": [],
   "source": [
    "scaler = StandardScaler()\n",
    "features_scaled = scaler.fit_transform(features)"
   ]
  },
  {
   "cell_type": "markdown",
   "id": "14f2bcf4",
   "metadata": {},
   "source": [
    "### Determine the optimal number of clusters using the Elbow method"
   ]
  },
  {
   "cell_type": "code",
   "execution_count": 103,
   "id": "cd203833",
   "metadata": {},
   "outputs": [],
   "source": [
    "wcss = []\n",
    "for i in range(1, 11):\n",
    "    kmeans = KMeans(n_clusters=i, random_state=42)\n",
    "    kmeans.fit(features_scaled)\n",
    "    wcss.append(kmeans.inertia_)"
   ]
  },
  {
   "cell_type": "markdown",
   "id": "38d5036d",
   "metadata": {},
   "source": [
    "#### Plotting the Elbow graph"
   ]
  },
  {
   "cell_type": "code",
   "execution_count": 104,
   "id": "9512abdb",
   "metadata": {},
   "outputs": [
    {
     "data": {
      "image/png": "[encoded data removed]",
      "text/plain": [
       "<Figure size 1000x600 with 1 Axes>"
      ]
     },
     "metadata": {},
     "output_type": "display_data"
    }
   ],
   "source": [
    "plt.figure(figsize=(10, 6))\n",
    "plt.plot(range(1, 11), wcss, marker='o')\n",
    "plt.title('Elbow Method for Optimal Number of Clusters')\n",
    "plt.xlabel('Number of Clusters')\n",
    "plt.ylabel('WCSS')\n",
    "plt.show()"
   ]
  },
  {
   "cell_type": "markdown",
   "id": "dd89a8aa",
   "metadata": {},
   "source": [
    "### Use 10 clusters for more granular risk segmentation"
   ]
  },
  {
   "cell_type": "code",
   "execution_count": 105,
   "id": "c6ed1c96",
   "metadata": {},
   "outputs": [],
   "source": [
    "kmeans = KMeans(n_clusters=10, random_state=42)\n",
    "df['Risk_Cluster'] = kmeans.fit_predict(features_scaled)"
   ]
  },
  {
   "cell_type": "markdown",
   "id": "e54fa554",
   "metadata": {},
   "source": [
    "### Assign estimated probabilities based on risk levels\n",
    "##### Assign probabilities in descending order: Cluster 0 (Low Risk) = High Probability, Cluster 9 (High Risk) = Low Probability"
   ]
  },
  {
   "cell_type": "code",
   "execution_count": 106,
   "id": "75bdba38",
   "metadata": {},
   "outputs": [],
   "source": [
    "risk_mapping = {\n",
    "    0: 0.95,  # Lowest risk cluster, highest approval probability\n",
    "    1: 0.85,\n",
    "    2: 0.75,\n",
    "    3: 0.65,\n",
    "    4: 0.55,\n",
    "    5: 0.45,\n",
    "    6: 0.35,\n",
    "    7: 0.25,\n",
    "    8: 0.15,\n",
    "    9: 0.05  # Highest risk cluster, lowest approval probability\n",
    "}\n",
    "df['Risk_Probability'] = df['Risk_Cluster'].map(risk_mapping)"
   ]
  },
  {
   "cell_type": "markdown",
   "id": "af67ba04",
   "metadata": {},
   "source": [
    "### Step 4: Visualization and Analysis\n",
    "#### Visualize the clusters"
   ]
  },
  {
   "cell_type": "code",
   "execution_count": 107,
   "id": "e70b61e5",
   "metadata": {},
   "outputs": [
    {
     "data": {
      "image/png": "[encoded data removed]",
      "text/plain": [
       "<Figure size 640x480 with 1 Axes>"
      ]
     },
     "metadata": {},
     "output_type": "display_data"
    }
   ],
   "source": [
    "sns.scatterplot(data=df, x='ApplicantIncome', y='LoanAmount', hue='Risk_Cluster', palette='viridis')\n",
    "plt.title('Cluster Visualization Based on Applicant Income and Loan Amount')\n",
    "plt.show()"
   ]
  },
  {
   "cell_type": "markdown",
   "id": "0fcef9c4",
   "metadata": {},
   "source": [
    "#### Check the distribution of the Risk Probability"
   ]
  },
  {
   "cell_type": "code",
   "execution_count": 108,
   "id": "5838162c",
   "metadata": {},
   "outputs": [
    {
     "data": {
      "image/png": "[encoded data removed]",
      "text/plain": [
       "<Figure size 640x480 with 1 Axes>"
      ]
     },
     "metadata": {},
     "output_type": "display_data"
    }
   ],
   "source": [
    "sns.histplot(df['Risk_Probability'], kde=True)\n",
    "plt.title('Distribution of Risk Probabilities')\n",
    "plt.show()"
   ]
  },
  {
   "cell_type": "code",
   "execution_count": 109,
   "id": "cc98f720",
   "metadata": {},
   "outputs": [],
   "source": [
    "\n",
    "# Save the modified dataset\n",
    "df.to_csv('loan_data_with_risk.csv', index=False)"
   ]
  },
  {
   "cell_type": "code",
   "execution_count": null,
   "id": "b0712cb8",
   "metadata": {},
   "outputs": [],
   "source": []
  },
  {
   "cell_type": "code",
   "execution_count": null,
   "id": "d1b19805",
   "metadata": {},
   "outputs": [],
   "source": []
  },
  {
   "cell_type": "code",
   "execution_count": 110,
   "id": "c6839ed6",
   "metadata": {},
   "outputs": [],
   "source": [
    "dd=pd.read_csv('loan_data_with_risk.csv')"
   ]
  },
  {
   "cell_type": "code",
   "execution_count": 111,
   "id": "ac27c20c",
   "metadata": {},
   "outputs": [
    {
     "data": {
      "text/plain": [
       "0       Y\n",
       "1       N\n",
       "2       Y\n",
       "3       Y\n",
       "4       Y\n",
       "       ..\n",
       "1207    Y\n",
       "1208    Y\n",
       "1209    Y\n",
       "1210    Y\n",
       "1211    N\n",
       "Name: Loan_Status, Length: 1212, dtype: object"
      ]
     },
     "execution_count": 111,
     "metadata": {},
     "output_type": "execute_result"
    }
   ],
   "source": [
    "Loan_Status"
   ]
  },
  {
   "cell_type": "code",
   "execution_count": 112,
   "id": "b66db407",
   "metadata": {},
   "outputs": [],
   "source": [
    "dd['Loan_Status']=Loan_Status"
   ]
  },
  {
   "cell_type": "markdown",
   "id": "583328de",
   "metadata": {},
   "source": [
    "### Save the modified dataset"
   ]
  },
  {
   "cell_type": "code",
   "execution_count": 113,
   "id": "2de9e7c2",
   "metadata": {},
   "outputs": [],
   "source": [
    "dd.to_csv('final_dataset.csv', index=False)"
   ]
  }
 ],
 "metadata": {
  "kernelspec": {
   "display_name": "Python 3",
   "language": "python",
   "name": "python3"
  },
  "language_info": {
   "codemirror_mode": {
    "name": "ipython",
    "version": 3
   },
   "file_extension": ".py",
   "mimetype": "text/x-python",
   "name": "python",
   "nbconvert_exporter": "python",
   "pygments_lexer": "ipython3",
   "version": "3.12.7"
  },
  "papermill": {
   "default_parameters": {},
   "duration": 30.946893,
   "end_time": "2023-05-15T05:46:43.916366",
   "environment_variables": {},
   "exception": null,
   "input_path": "__notebook__.ipynb",
   "output_path": "__notebook__.ipynb",
   "parameters": {},
   "start_time": "2023-05-15T05:46:12.969473",
   "version": "2.3.4"
  }
 },
 "nbformat": 4,
 "nbformat_minor": 5
}
